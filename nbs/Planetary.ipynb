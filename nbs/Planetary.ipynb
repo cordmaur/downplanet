{
 "cells": [
  {
   "cell_type": "markdown",
   "id": "6aa74d78-35f9-436b-93e8-eac7bf46a884",
   "metadata": {},
   "source": [
    "# downplanet downloader for Microsoft Planetary"
   ]
  },
  {
   "cell_type": "code",
   "execution_count": 1,
   "id": "09a1e44a-f273-4945-832d-96ba4e22f435",
   "metadata": {},
   "outputs": [],
   "source": [
    "%load_ext autoreload\n",
    "%autoreload 2\n",
    "\n",
    "from downplanet import DownPlanet\n",
    "import pandas as pd\n",
    "import logging"
   ]
  },
  {
   "cell_type": "code",
   "execution_count": 2,
   "id": "7bf93276-34fa-4a3c-8683-28e94b25cd8b",
   "metadata": {},
   "outputs": [],
   "source": [
    "downloader = DownPlanet(logger_level=logging.INFO)"
   ]
  },
  {
   "cell_type": "code",
   "execution_count": 3,
   "id": "7b189b7b-9fef-49c4-b363-6b50276e356e",
   "metadata": {},
   "outputs": [
    {
     "name": "stderr",
     "output_type": "stream",
     "text": [
      "10:32:10 INFO:231 images found. Access .search_df for the list.\n"
     ]
    }
   ],
   "source": [
    "downloader.search(geometry=(-49.5, -23.2), start_date='2015', end_date='2018')"
   ]
  },
  {
   "cell_type": "code",
   "execution_count": 4,
   "id": "d3140e94-4776-4b5e-a208-519b8c64936f",
   "metadata": {},
   "outputs": [
    {
     "data": {
      "text/html": [
       "<div>\n",
       "<style scoped>\n",
       "    .dataframe tbody tr th:only-of-type {\n",
       "        vertical-align: middle;\n",
       "    }\n",
       "\n",
       "    .dataframe tbody tr th {\n",
       "        vertical-align: top;\n",
       "    }\n",
       "\n",
       "    .dataframe thead th {\n",
       "        text-align: right;\n",
       "    }\n",
       "</style>\n",
       "<table border=\"1\" class=\"dataframe\">\n",
       "  <thead>\n",
       "    <tr style=\"text-align: right;\">\n",
       "      <th></th>\n",
       "      <th>datetime</th>\n",
       "      <th>platform</th>\n",
       "      <th>proj:epsg</th>\n",
       "      <th>instruments</th>\n",
       "      <th>s2:mgrs_tile</th>\n",
       "      <th>constellation</th>\n",
       "      <th>s2:granule_id</th>\n",
       "      <th>eo:cloud_cover</th>\n",
       "      <th>s2:datatake_id</th>\n",
       "      <th>s2:product_uri</th>\n",
       "      <th>...</th>\n",
       "      <th>s2:nodata_pixel_percentage</th>\n",
       "      <th>s2:unclassified_percentage</th>\n",
       "      <th>s2:dark_features_percentage</th>\n",
       "      <th>s2:not_vegetated_percentage</th>\n",
       "      <th>s2:degraded_msi_data_percentage</th>\n",
       "      <th>s2:high_proba_clouds_percentage</th>\n",
       "      <th>s2:reflectance_conversion_factor</th>\n",
       "      <th>s2:medium_proba_clouds_percentage</th>\n",
       "      <th>s2:saturated_defective_pixel_percentage</th>\n",
       "      <th>item</th>\n",
       "    </tr>\n",
       "    <tr>\n",
       "      <th>id</th>\n",
       "      <th></th>\n",
       "      <th></th>\n",
       "      <th></th>\n",
       "      <th></th>\n",
       "      <th></th>\n",
       "      <th></th>\n",
       "      <th></th>\n",
       "      <th></th>\n",
       "      <th></th>\n",
       "      <th></th>\n",
       "      <th></th>\n",
       "      <th></th>\n",
       "      <th></th>\n",
       "      <th></th>\n",
       "      <th></th>\n",
       "      <th></th>\n",
       "      <th></th>\n",
       "      <th></th>\n",
       "      <th></th>\n",
       "      <th></th>\n",
       "      <th></th>\n",
       "    </tr>\n",
       "  </thead>\n",
       "  <tbody>\n",
       "    <tr>\n",
       "      <th>S2B_MSIL2A_20181231T132229_R038_T22KFV_20201008T143651</th>\n",
       "      <td>2018-12-31T13:22:29.024000Z</td>\n",
       "      <td>Sentinel-2B</td>\n",
       "      <td>32722</td>\n",
       "      <td>[msi]</td>\n",
       "      <td>22KFV</td>\n",
       "      <td>Sentinel 2</td>\n",
       "      <td>S2B_OPER_MSI_L2A_TL_ESRI_20201008T143653_A0095...</td>\n",
       "      <td>2.49868</td>\n",
       "      <td>GS2B_20181231T132229_009502_N02.12</td>\n",
       "      <td>S2B_MSIL2A_20181231T132229_N0212_R038_T22KFV_2...</td>\n",
       "      <td>...</td>\n",
       "      <td>19.706918</td>\n",
       "      <td>0.291293</td>\n",
       "      <td>0.289309</td>\n",
       "      <td>8.353923</td>\n",
       "      <td>0.0</td>\n",
       "      <td>0.105676</td>\n",
       "      <td>1.034082</td>\n",
       "      <td>0.081755</td>\n",
       "      <td>0.0</td>\n",
       "      <td>&lt;Item id=S2B_MSIL2A_20181231T132229_R038_T22KF...</td>\n",
       "    </tr>\n",
       "    <tr>\n",
       "      <th>S2A_MSIL2A_20181229T133221_R081_T22KFV_20201008T135726</th>\n",
       "      <td>2018-12-29T13:32:21.024000Z</td>\n",
       "      <td>Sentinel-2A</td>\n",
       "      <td>32722</td>\n",
       "      <td>[msi]</td>\n",
       "      <td>22KFV</td>\n",
       "      <td>Sentinel 2</td>\n",
       "      <td>S2A_OPER_MSI_L2A_TL_ESRI_20201008T135727_A0183...</td>\n",
       "      <td>20.410391</td>\n",
       "      <td>GS2A_20181229T133221_018382_N02.12</td>\n",
       "      <td>S2A_MSIL2A_20181229T133221_N0212_R081_T22KFV_2...</td>\n",
       "      <td>...</td>\n",
       "      <td>38.36261</td>\n",
       "      <td>2.894905</td>\n",
       "      <td>0.820366</td>\n",
       "      <td>8.035356</td>\n",
       "      <td>0.0</td>\n",
       "      <td>15.592183</td>\n",
       "      <td>1.033922</td>\n",
       "      <td>4.16415</td>\n",
       "      <td>0.0</td>\n",
       "      <td>&lt;Item id=S2A_MSIL2A_20181229T133221_R081_T22KF...</td>\n",
       "    </tr>\n",
       "    <tr>\n",
       "      <th>S2A_MSIL2A_20181226T132231_R038_T22KFV_20201008T130839</th>\n",
       "      <td>2018-12-26T13:22:31.024000Z</td>\n",
       "      <td>Sentinel-2A</td>\n",
       "      <td>32722</td>\n",
       "      <td>[msi]</td>\n",
       "      <td>22KFV</td>\n",
       "      <td>Sentinel 2</td>\n",
       "      <td>S2A_OPER_MSI_L2A_TL_ESRI_20201008T130841_A0183...</td>\n",
       "      <td>20.875335</td>\n",
       "      <td>GS2A_20181226T132231_018339_N02.12</td>\n",
       "      <td>S2A_MSIL2A_20181226T132231_N0212_R038_T22KFV_2...</td>\n",
       "      <td>...</td>\n",
       "      <td>20.200573</td>\n",
       "      <td>5.421459</td>\n",
       "      <td>0.336925</td>\n",
       "      <td>11.874427</td>\n",
       "      <td>0.0</td>\n",
       "      <td>11.748493</td>\n",
       "      <td>1.033604</td>\n",
       "      <td>6.771243</td>\n",
       "      <td>0.0</td>\n",
       "      <td>&lt;Item id=S2A_MSIL2A_20181226T132231_R038_T22KF...</td>\n",
       "    </tr>\n",
       "    <tr>\n",
       "      <th>S2B_MSIL2A_20181224T133219_R081_T22KFV_20201031T001844</th>\n",
       "      <td>2018-12-24T13:32:19.024000Z</td>\n",
       "      <td>Sentinel-2B</td>\n",
       "      <td>32722</td>\n",
       "      <td>[msi]</td>\n",
       "      <td>22KFV</td>\n",
       "      <td>Sentinel 2</td>\n",
       "      <td>S2B_OPER_MSI_L2A_TL_ESRI_20201031T001846_A0094...</td>\n",
       "      <td>98.340406</td>\n",
       "      <td>GS2B_20181224T133219_009402_N02.12</td>\n",
       "      <td>S2B_MSIL2A_20181224T133219_N0212_R081_T22KFV_2...</td>\n",
       "      <td>...</td>\n",
       "      <td>38.507104</td>\n",
       "      <td>0.813806</td>\n",
       "      <td>0.000291</td>\n",
       "      <td>0.32968</td>\n",
       "      <td>0.0</td>\n",
       "      <td>71.717769</td>\n",
       "      <td>1.033342</td>\n",
       "      <td>26.575863</td>\n",
       "      <td>0.0</td>\n",
       "      <td>&lt;Item id=S2B_MSIL2A_20181224T133219_R081_T22KF...</td>\n",
       "    </tr>\n",
       "    <tr>\n",
       "      <th>S2B_MSIL2A_20181221T132229_R038_T22KFV_20201008T120057</th>\n",
       "      <td>2018-12-21T13:22:29.024000Z</td>\n",
       "      <td>Sentinel-2B</td>\n",
       "      <td>32722</td>\n",
       "      <td>[msi]</td>\n",
       "      <td>22KFV</td>\n",
       "      <td>Sentinel 2</td>\n",
       "      <td>S2B_OPER_MSI_L2A_TL_ESRI_20201008T120059_A0093...</td>\n",
       "      <td>94.832423</td>\n",
       "      <td>GS2B_20181221T132229_009359_N02.12</td>\n",
       "      <td>S2B_MSIL2A_20181221T132229_N0212_R038_T22KFV_2...</td>\n",
       "      <td>...</td>\n",
       "      <td>19.788159</td>\n",
       "      <td>0.051382</td>\n",
       "      <td>0.013389</td>\n",
       "      <td>0.473959</td>\n",
       "      <td>0.0</td>\n",
       "      <td>2.006736</td>\n",
       "      <td>1.032871</td>\n",
       "      <td>55.385661</td>\n",
       "      <td>0.0</td>\n",
       "      <td>&lt;Item id=S2B_MSIL2A_20181221T132229_R038_T22KF...</td>\n",
       "    </tr>\n",
       "    <tr>\n",
       "      <th>...</th>\n",
       "      <td>...</td>\n",
       "      <td>...</td>\n",
       "      <td>...</td>\n",
       "      <td>...</td>\n",
       "      <td>...</td>\n",
       "      <td>...</td>\n",
       "      <td>...</td>\n",
       "      <td>...</td>\n",
       "      <td>...</td>\n",
       "      <td>...</td>\n",
       "      <td>...</td>\n",
       "      <td>...</td>\n",
       "      <td>...</td>\n",
       "      <td>...</td>\n",
       "      <td>...</td>\n",
       "      <td>...</td>\n",
       "      <td>...</td>\n",
       "      <td>...</td>\n",
       "      <td>...</td>\n",
       "      <td>...</td>\n",
       "      <td>...</td>\n",
       "    </tr>\n",
       "    <tr>\n",
       "      <th>S2A_MSIL2A_20160104T133102_R081_T22KFV_20210527T083551</th>\n",
       "      <td>2016-01-04T13:31:02.030000Z</td>\n",
       "      <td>Sentinel-2A</td>\n",
       "      <td>32722</td>\n",
       "      <td>[msi]</td>\n",
       "      <td>22KFV</td>\n",
       "      <td>Sentinel 2</td>\n",
       "      <td>S2A_OPER_MSI_L2A_TL_ESRI_20210527T083553_A0027...</td>\n",
       "      <td>97.953501</td>\n",
       "      <td>GS2A_20160104T133102_002795_N03.00</td>\n",
       "      <td>S2A_MSIL2A_20160104T133102_N0300_R081_T22KFV_2...</td>\n",
       "      <td>...</td>\n",
       "      <td>38.244438</td>\n",
       "      <td>0.699149</td>\n",
       "      <td>0.001123</td>\n",
       "      <td>0.166763</td>\n",
       "      <td>0.0</td>\n",
       "      <td>77.472007</td>\n",
       "      <td>1.034277</td>\n",
       "      <td>13.706034</td>\n",
       "      <td>0.0</td>\n",
       "      <td>&lt;Item id=S2A_MSIL2A_20160104T133102_R081_T22KF...</td>\n",
       "    </tr>\n",
       "    <tr>\n",
       "      <th>S2A_MSIL2A_20151222T132122_R038_T22KFV_20210526T150106</th>\n",
       "      <td>2015-12-22T13:21:22.030000Z</td>\n",
       "      <td>Sentinel-2A</td>\n",
       "      <td>32722</td>\n",
       "      <td>[msi]</td>\n",
       "      <td>22KFV</td>\n",
       "      <td>Sentinel 2</td>\n",
       "      <td>S2A_OPER_MSI_L2A_TL_ESRI_20210526T150108_A0026...</td>\n",
       "      <td>59.075482</td>\n",
       "      <td>GS2A_20151222T132122_002609_N03.00</td>\n",
       "      <td>S2A_MSIL2A_20151222T132122_N0300_R038_T22KFV_2...</td>\n",
       "      <td>...</td>\n",
       "      <td>20.188931</td>\n",
       "      <td>2.530187</td>\n",
       "      <td>0.81277</td>\n",
       "      <td>4.688121</td>\n",
       "      <td>0.0</td>\n",
       "      <td>18.538016</td>\n",
       "      <td>1.033022</td>\n",
       "      <td>10.45617</td>\n",
       "      <td>0.0</td>\n",
       "      <td>&lt;Item id=S2A_MSIL2A_20151222T132122_R038_T22KF...</td>\n",
       "    </tr>\n",
       "    <tr>\n",
       "      <th>S2A_MSIL2A_20151122T132122_R038_T22KFV_20210413T034002</th>\n",
       "      <td>2015-11-22T13:21:22.031000Z</td>\n",
       "      <td>Sentinel-2A</td>\n",
       "      <td>32722</td>\n",
       "      <td>[msi]</td>\n",
       "      <td>22KFV</td>\n",
       "      <td>Sentinel 2</td>\n",
       "      <td>S2A_OPER_MSI_L2A_TL_ESRI_20210413T034004_A0021...</td>\n",
       "      <td>65.377143</td>\n",
       "      <td>GS2A_20151122T132122_002180_N02.12</td>\n",
       "      <td>S2A_MSIL2A_20151122T132122_N0212_R038_T22KFV_2...</td>\n",
       "      <td>...</td>\n",
       "      <td>20.517832</td>\n",
       "      <td>0.501903</td>\n",
       "      <td>0.220692</td>\n",
       "      <td>4.217456</td>\n",
       "      <td>0.0</td>\n",
       "      <td>9.561482</td>\n",
       "      <td>1.024011</td>\n",
       "      <td>28.492936</td>\n",
       "      <td>0.0</td>\n",
       "      <td>&lt;Item id=S2A_MSIL2A_20151122T132122_R038_T22KF...</td>\n",
       "    </tr>\n",
       "    <tr>\n",
       "      <th>S2A_MSIL2A_20151003T132816_R038_T22KFV_20210412T150950</th>\n",
       "      <td>2015-10-03T13:28:16.027000Z</td>\n",
       "      <td>Sentinel-2A</td>\n",
       "      <td>32722</td>\n",
       "      <td>[msi]</td>\n",
       "      <td>22KFV</td>\n",
       "      <td>Sentinel 2</td>\n",
       "      <td>S2A_OPER_MSI_L2A_TL_ESRI_20210412T150951_A0014...</td>\n",
       "      <td>97.227961</td>\n",
       "      <td>GS2A_20151003T132816_001465_N02.12</td>\n",
       "      <td>S2A_MSIL2A_20151003T132816_N0212_R038_T22KFV_2...</td>\n",
       "      <td>...</td>\n",
       "      <td>20.99725</td>\n",
       "      <td>1.40758</td>\n",
       "      <td>0.048691</td>\n",
       "      <td>0.390353</td>\n",
       "      <td>0.0</td>\n",
       "      <td>90.45133</td>\n",
       "      <td>0.997412</td>\n",
       "      <td>6.695309</td>\n",
       "      <td>0.0</td>\n",
       "      <td>&lt;Item id=S2A_MSIL2A_20151003T132816_R038_T22KF...</td>\n",
       "    </tr>\n",
       "    <tr>\n",
       "      <th>S2A_MSIL2A_20150824T132816_R038_T22KFV_20210412T012702</th>\n",
       "      <td>2015-08-24T13:28:16.027000Z</td>\n",
       "      <td>Sentinel-2A</td>\n",
       "      <td>32722</td>\n",
       "      <td>[msi]</td>\n",
       "      <td>22KFV</td>\n",
       "      <td>Sentinel 2</td>\n",
       "      <td>S2A_OPER_MSI_L2A_TL_ESRI_20210412T012703_A0008...</td>\n",
       "      <td>99.998448</td>\n",
       "      <td>GS2A_20150824T132816_000893_N02.12</td>\n",
       "      <td>S2A_MSIL2A_20150824T132816_N0212_R038_T22KFV_2...</td>\n",
       "      <td>...</td>\n",
       "      <td>22.176529</td>\n",
       "      <td>0.0</td>\n",
       "      <td>0.001556</td>\n",
       "      <td>0.0</td>\n",
       "      <td>0.0</td>\n",
       "      <td>85.489762</td>\n",
       "      <td>0.977211</td>\n",
       "      <td>13.868511</td>\n",
       "      <td>0.0</td>\n",
       "      <td>&lt;Item id=S2A_MSIL2A_20150824T132816_R038_T22KF...</td>\n",
       "    </tr>\n",
       "  </tbody>\n",
       "</table>\n",
       "<p>231 rows × 34 columns</p>\n",
       "</div>"
      ],
      "text/plain": [
       "                                                                       datetime  \\\n",
       "id                                                                                \n",
       "S2B_MSIL2A_20181231T132229_R038_T22KFV_20201008...  2018-12-31T13:22:29.024000Z   \n",
       "S2A_MSIL2A_20181229T133221_R081_T22KFV_20201008...  2018-12-29T13:32:21.024000Z   \n",
       "S2A_MSIL2A_20181226T132231_R038_T22KFV_20201008...  2018-12-26T13:22:31.024000Z   \n",
       "S2B_MSIL2A_20181224T133219_R081_T22KFV_20201031...  2018-12-24T13:32:19.024000Z   \n",
       "S2B_MSIL2A_20181221T132229_R038_T22KFV_20201008...  2018-12-21T13:22:29.024000Z   \n",
       "...                                                                         ...   \n",
       "S2A_MSIL2A_20160104T133102_R081_T22KFV_20210527...  2016-01-04T13:31:02.030000Z   \n",
       "S2A_MSIL2A_20151222T132122_R038_T22KFV_20210526...  2015-12-22T13:21:22.030000Z   \n",
       "S2A_MSIL2A_20151122T132122_R038_T22KFV_20210413...  2015-11-22T13:21:22.031000Z   \n",
       "S2A_MSIL2A_20151003T132816_R038_T22KFV_20210412...  2015-10-03T13:28:16.027000Z   \n",
       "S2A_MSIL2A_20150824T132816_R038_T22KFV_20210412...  2015-08-24T13:28:16.027000Z   \n",
       "\n",
       "                                                       platform proj:epsg  \\\n",
       "id                                                                          \n",
       "S2B_MSIL2A_20181231T132229_R038_T22KFV_20201008...  Sentinel-2B     32722   \n",
       "S2A_MSIL2A_20181229T133221_R081_T22KFV_20201008...  Sentinel-2A     32722   \n",
       "S2A_MSIL2A_20181226T132231_R038_T22KFV_20201008...  Sentinel-2A     32722   \n",
       "S2B_MSIL2A_20181224T133219_R081_T22KFV_20201031...  Sentinel-2B     32722   \n",
       "S2B_MSIL2A_20181221T132229_R038_T22KFV_20201008...  Sentinel-2B     32722   \n",
       "...                                                         ...       ...   \n",
       "S2A_MSIL2A_20160104T133102_R081_T22KFV_20210527...  Sentinel-2A     32722   \n",
       "S2A_MSIL2A_20151222T132122_R038_T22KFV_20210526...  Sentinel-2A     32722   \n",
       "S2A_MSIL2A_20151122T132122_R038_T22KFV_20210413...  Sentinel-2A     32722   \n",
       "S2A_MSIL2A_20151003T132816_R038_T22KFV_20210412...  Sentinel-2A     32722   \n",
       "S2A_MSIL2A_20150824T132816_R038_T22KFV_20210412...  Sentinel-2A     32722   \n",
       "\n",
       "                                                   instruments s2:mgrs_tile  \\\n",
       "id                                                                            \n",
       "S2B_MSIL2A_20181231T132229_R038_T22KFV_20201008...       [msi]        22KFV   \n",
       "S2A_MSIL2A_20181229T133221_R081_T22KFV_20201008...       [msi]        22KFV   \n",
       "S2A_MSIL2A_20181226T132231_R038_T22KFV_20201008...       [msi]        22KFV   \n",
       "S2B_MSIL2A_20181224T133219_R081_T22KFV_20201031...       [msi]        22KFV   \n",
       "S2B_MSIL2A_20181221T132229_R038_T22KFV_20201008...       [msi]        22KFV   \n",
       "...                                                        ...          ...   \n",
       "S2A_MSIL2A_20160104T133102_R081_T22KFV_20210527...       [msi]        22KFV   \n",
       "S2A_MSIL2A_20151222T132122_R038_T22KFV_20210526...       [msi]        22KFV   \n",
       "S2A_MSIL2A_20151122T132122_R038_T22KFV_20210413...       [msi]        22KFV   \n",
       "S2A_MSIL2A_20151003T132816_R038_T22KFV_20210412...       [msi]        22KFV   \n",
       "S2A_MSIL2A_20150824T132816_R038_T22KFV_20210412...       [msi]        22KFV   \n",
       "\n",
       "                                                   constellation  \\\n",
       "id                                                                 \n",
       "S2B_MSIL2A_20181231T132229_R038_T22KFV_20201008...    Sentinel 2   \n",
       "S2A_MSIL2A_20181229T133221_R081_T22KFV_20201008...    Sentinel 2   \n",
       "S2A_MSIL2A_20181226T132231_R038_T22KFV_20201008...    Sentinel 2   \n",
       "S2B_MSIL2A_20181224T133219_R081_T22KFV_20201031...    Sentinel 2   \n",
       "S2B_MSIL2A_20181221T132229_R038_T22KFV_20201008...    Sentinel 2   \n",
       "...                                                          ...   \n",
       "S2A_MSIL2A_20160104T133102_R081_T22KFV_20210527...    Sentinel 2   \n",
       "S2A_MSIL2A_20151222T132122_R038_T22KFV_20210526...    Sentinel 2   \n",
       "S2A_MSIL2A_20151122T132122_R038_T22KFV_20210413...    Sentinel 2   \n",
       "S2A_MSIL2A_20151003T132816_R038_T22KFV_20210412...    Sentinel 2   \n",
       "S2A_MSIL2A_20150824T132816_R038_T22KFV_20210412...    Sentinel 2   \n",
       "\n",
       "                                                                                        s2:granule_id  \\\n",
       "id                                                                                                      \n",
       "S2B_MSIL2A_20181231T132229_R038_T22KFV_20201008...  S2B_OPER_MSI_L2A_TL_ESRI_20201008T143653_A0095...   \n",
       "S2A_MSIL2A_20181229T133221_R081_T22KFV_20201008...  S2A_OPER_MSI_L2A_TL_ESRI_20201008T135727_A0183...   \n",
       "S2A_MSIL2A_20181226T132231_R038_T22KFV_20201008...  S2A_OPER_MSI_L2A_TL_ESRI_20201008T130841_A0183...   \n",
       "S2B_MSIL2A_20181224T133219_R081_T22KFV_20201031...  S2B_OPER_MSI_L2A_TL_ESRI_20201031T001846_A0094...   \n",
       "S2B_MSIL2A_20181221T132229_R038_T22KFV_20201008...  S2B_OPER_MSI_L2A_TL_ESRI_20201008T120059_A0093...   \n",
       "...                                                                                               ...   \n",
       "S2A_MSIL2A_20160104T133102_R081_T22KFV_20210527...  S2A_OPER_MSI_L2A_TL_ESRI_20210527T083553_A0027...   \n",
       "S2A_MSIL2A_20151222T132122_R038_T22KFV_20210526...  S2A_OPER_MSI_L2A_TL_ESRI_20210526T150108_A0026...   \n",
       "S2A_MSIL2A_20151122T132122_R038_T22KFV_20210413...  S2A_OPER_MSI_L2A_TL_ESRI_20210413T034004_A0021...   \n",
       "S2A_MSIL2A_20151003T132816_R038_T22KFV_20210412...  S2A_OPER_MSI_L2A_TL_ESRI_20210412T150951_A0014...   \n",
       "S2A_MSIL2A_20150824T132816_R038_T22KFV_20210412...  S2A_OPER_MSI_L2A_TL_ESRI_20210412T012703_A0008...   \n",
       "\n",
       "                                                   eo:cloud_cover  \\\n",
       "id                                                                  \n",
       "S2B_MSIL2A_20181231T132229_R038_T22KFV_20201008...        2.49868   \n",
       "S2A_MSIL2A_20181229T133221_R081_T22KFV_20201008...      20.410391   \n",
       "S2A_MSIL2A_20181226T132231_R038_T22KFV_20201008...      20.875335   \n",
       "S2B_MSIL2A_20181224T133219_R081_T22KFV_20201031...      98.340406   \n",
       "S2B_MSIL2A_20181221T132229_R038_T22KFV_20201008...      94.832423   \n",
       "...                                                           ...   \n",
       "S2A_MSIL2A_20160104T133102_R081_T22KFV_20210527...      97.953501   \n",
       "S2A_MSIL2A_20151222T132122_R038_T22KFV_20210526...      59.075482   \n",
       "S2A_MSIL2A_20151122T132122_R038_T22KFV_20210413...      65.377143   \n",
       "S2A_MSIL2A_20151003T132816_R038_T22KFV_20210412...      97.227961   \n",
       "S2A_MSIL2A_20150824T132816_R038_T22KFV_20210412...      99.998448   \n",
       "\n",
       "                                                                        s2:datatake_id  \\\n",
       "id                                                                                       \n",
       "S2B_MSIL2A_20181231T132229_R038_T22KFV_20201008...  GS2B_20181231T132229_009502_N02.12   \n",
       "S2A_MSIL2A_20181229T133221_R081_T22KFV_20201008...  GS2A_20181229T133221_018382_N02.12   \n",
       "S2A_MSIL2A_20181226T132231_R038_T22KFV_20201008...  GS2A_20181226T132231_018339_N02.12   \n",
       "S2B_MSIL2A_20181224T133219_R081_T22KFV_20201031...  GS2B_20181224T133219_009402_N02.12   \n",
       "S2B_MSIL2A_20181221T132229_R038_T22KFV_20201008...  GS2B_20181221T132229_009359_N02.12   \n",
       "...                                                                                ...   \n",
       "S2A_MSIL2A_20160104T133102_R081_T22KFV_20210527...  GS2A_20160104T133102_002795_N03.00   \n",
       "S2A_MSIL2A_20151222T132122_R038_T22KFV_20210526...  GS2A_20151222T132122_002609_N03.00   \n",
       "S2A_MSIL2A_20151122T132122_R038_T22KFV_20210413...  GS2A_20151122T132122_002180_N02.12   \n",
       "S2A_MSIL2A_20151003T132816_R038_T22KFV_20210412...  GS2A_20151003T132816_001465_N02.12   \n",
       "S2A_MSIL2A_20150824T132816_R038_T22KFV_20210412...  GS2A_20150824T132816_000893_N02.12   \n",
       "\n",
       "                                                                                       s2:product_uri  \\\n",
       "id                                                                                                      \n",
       "S2B_MSIL2A_20181231T132229_R038_T22KFV_20201008...  S2B_MSIL2A_20181231T132229_N0212_R038_T22KFV_2...   \n",
       "S2A_MSIL2A_20181229T133221_R081_T22KFV_20201008...  S2A_MSIL2A_20181229T133221_N0212_R081_T22KFV_2...   \n",
       "S2A_MSIL2A_20181226T132231_R038_T22KFV_20201008...  S2A_MSIL2A_20181226T132231_N0212_R038_T22KFV_2...   \n",
       "S2B_MSIL2A_20181224T133219_R081_T22KFV_20201031...  S2B_MSIL2A_20181224T133219_N0212_R081_T22KFV_2...   \n",
       "S2B_MSIL2A_20181221T132229_R038_T22KFV_20201008...  S2B_MSIL2A_20181221T132229_N0212_R038_T22KFV_2...   \n",
       "...                                                                                               ...   \n",
       "S2A_MSIL2A_20160104T133102_R081_T22KFV_20210527...  S2A_MSIL2A_20160104T133102_N0300_R081_T22KFV_2...   \n",
       "S2A_MSIL2A_20151222T132122_R038_T22KFV_20210526...  S2A_MSIL2A_20151222T132122_N0300_R038_T22KFV_2...   \n",
       "S2A_MSIL2A_20151122T132122_R038_T22KFV_20210413...  S2A_MSIL2A_20151122T132122_N0212_R038_T22KFV_2...   \n",
       "S2A_MSIL2A_20151003T132816_R038_T22KFV_20210412...  S2A_MSIL2A_20151003T132816_N0212_R038_T22KFV_2...   \n",
       "S2A_MSIL2A_20150824T132816_R038_T22KFV_20210412...  S2A_MSIL2A_20150824T132816_N0212_R038_T22KFV_2...   \n",
       "\n",
       "                                                    ...  \\\n",
       "id                                                  ...   \n",
       "S2B_MSIL2A_20181231T132229_R038_T22KFV_20201008...  ...   \n",
       "S2A_MSIL2A_20181229T133221_R081_T22KFV_20201008...  ...   \n",
       "S2A_MSIL2A_20181226T132231_R038_T22KFV_20201008...  ...   \n",
       "S2B_MSIL2A_20181224T133219_R081_T22KFV_20201031...  ...   \n",
       "S2B_MSIL2A_20181221T132229_R038_T22KFV_20201008...  ...   \n",
       "...                                                 ...   \n",
       "S2A_MSIL2A_20160104T133102_R081_T22KFV_20210527...  ...   \n",
       "S2A_MSIL2A_20151222T132122_R038_T22KFV_20210526...  ...   \n",
       "S2A_MSIL2A_20151122T132122_R038_T22KFV_20210413...  ...   \n",
       "S2A_MSIL2A_20151003T132816_R038_T22KFV_20210412...  ...   \n",
       "S2A_MSIL2A_20150824T132816_R038_T22KFV_20210412...  ...   \n",
       "\n",
       "                                                   s2:nodata_pixel_percentage  \\\n",
       "id                                                                              \n",
       "S2B_MSIL2A_20181231T132229_R038_T22KFV_20201008...                  19.706918   \n",
       "S2A_MSIL2A_20181229T133221_R081_T22KFV_20201008...                   38.36261   \n",
       "S2A_MSIL2A_20181226T132231_R038_T22KFV_20201008...                  20.200573   \n",
       "S2B_MSIL2A_20181224T133219_R081_T22KFV_20201031...                  38.507104   \n",
       "S2B_MSIL2A_20181221T132229_R038_T22KFV_20201008...                  19.788159   \n",
       "...                                                                       ...   \n",
       "S2A_MSIL2A_20160104T133102_R081_T22KFV_20210527...                  38.244438   \n",
       "S2A_MSIL2A_20151222T132122_R038_T22KFV_20210526...                  20.188931   \n",
       "S2A_MSIL2A_20151122T132122_R038_T22KFV_20210413...                  20.517832   \n",
       "S2A_MSIL2A_20151003T132816_R038_T22KFV_20210412...                   20.99725   \n",
       "S2A_MSIL2A_20150824T132816_R038_T22KFV_20210412...                  22.176529   \n",
       "\n",
       "                                                   s2:unclassified_percentage  \\\n",
       "id                                                                              \n",
       "S2B_MSIL2A_20181231T132229_R038_T22KFV_20201008...                   0.291293   \n",
       "S2A_MSIL2A_20181229T133221_R081_T22KFV_20201008...                   2.894905   \n",
       "S2A_MSIL2A_20181226T132231_R038_T22KFV_20201008...                   5.421459   \n",
       "S2B_MSIL2A_20181224T133219_R081_T22KFV_20201031...                   0.813806   \n",
       "S2B_MSIL2A_20181221T132229_R038_T22KFV_20201008...                   0.051382   \n",
       "...                                                                       ...   \n",
       "S2A_MSIL2A_20160104T133102_R081_T22KFV_20210527...                   0.699149   \n",
       "S2A_MSIL2A_20151222T132122_R038_T22KFV_20210526...                   2.530187   \n",
       "S2A_MSIL2A_20151122T132122_R038_T22KFV_20210413...                   0.501903   \n",
       "S2A_MSIL2A_20151003T132816_R038_T22KFV_20210412...                    1.40758   \n",
       "S2A_MSIL2A_20150824T132816_R038_T22KFV_20210412...                        0.0   \n",
       "\n",
       "                                                   s2:dark_features_percentage  \\\n",
       "id                                                                               \n",
       "S2B_MSIL2A_20181231T132229_R038_T22KFV_20201008...                    0.289309   \n",
       "S2A_MSIL2A_20181229T133221_R081_T22KFV_20201008...                    0.820366   \n",
       "S2A_MSIL2A_20181226T132231_R038_T22KFV_20201008...                    0.336925   \n",
       "S2B_MSIL2A_20181224T133219_R081_T22KFV_20201031...                    0.000291   \n",
       "S2B_MSIL2A_20181221T132229_R038_T22KFV_20201008...                    0.013389   \n",
       "...                                                                        ...   \n",
       "S2A_MSIL2A_20160104T133102_R081_T22KFV_20210527...                    0.001123   \n",
       "S2A_MSIL2A_20151222T132122_R038_T22KFV_20210526...                     0.81277   \n",
       "S2A_MSIL2A_20151122T132122_R038_T22KFV_20210413...                    0.220692   \n",
       "S2A_MSIL2A_20151003T132816_R038_T22KFV_20210412...                    0.048691   \n",
       "S2A_MSIL2A_20150824T132816_R038_T22KFV_20210412...                    0.001556   \n",
       "\n",
       "                                                   s2:not_vegetated_percentage  \\\n",
       "id                                                                               \n",
       "S2B_MSIL2A_20181231T132229_R038_T22KFV_20201008...                    8.353923   \n",
       "S2A_MSIL2A_20181229T133221_R081_T22KFV_20201008...                    8.035356   \n",
       "S2A_MSIL2A_20181226T132231_R038_T22KFV_20201008...                   11.874427   \n",
       "S2B_MSIL2A_20181224T133219_R081_T22KFV_20201031...                     0.32968   \n",
       "S2B_MSIL2A_20181221T132229_R038_T22KFV_20201008...                    0.473959   \n",
       "...                                                                        ...   \n",
       "S2A_MSIL2A_20160104T133102_R081_T22KFV_20210527...                    0.166763   \n",
       "S2A_MSIL2A_20151222T132122_R038_T22KFV_20210526...                    4.688121   \n",
       "S2A_MSIL2A_20151122T132122_R038_T22KFV_20210413...                    4.217456   \n",
       "S2A_MSIL2A_20151003T132816_R038_T22KFV_20210412...                    0.390353   \n",
       "S2A_MSIL2A_20150824T132816_R038_T22KFV_20210412...                         0.0   \n",
       "\n",
       "                                                   s2:degraded_msi_data_percentage  \\\n",
       "id                                                                                   \n",
       "S2B_MSIL2A_20181231T132229_R038_T22KFV_20201008...                             0.0   \n",
       "S2A_MSIL2A_20181229T133221_R081_T22KFV_20201008...                             0.0   \n",
       "S2A_MSIL2A_20181226T132231_R038_T22KFV_20201008...                             0.0   \n",
       "S2B_MSIL2A_20181224T133219_R081_T22KFV_20201031...                             0.0   \n",
       "S2B_MSIL2A_20181221T132229_R038_T22KFV_20201008...                             0.0   \n",
       "...                                                                            ...   \n",
       "S2A_MSIL2A_20160104T133102_R081_T22KFV_20210527...                             0.0   \n",
       "S2A_MSIL2A_20151222T132122_R038_T22KFV_20210526...                             0.0   \n",
       "S2A_MSIL2A_20151122T132122_R038_T22KFV_20210413...                             0.0   \n",
       "S2A_MSIL2A_20151003T132816_R038_T22KFV_20210412...                             0.0   \n",
       "S2A_MSIL2A_20150824T132816_R038_T22KFV_20210412...                             0.0   \n",
       "\n",
       "                                                   s2:high_proba_clouds_percentage  \\\n",
       "id                                                                                   \n",
       "S2B_MSIL2A_20181231T132229_R038_T22KFV_20201008...                        0.105676   \n",
       "S2A_MSIL2A_20181229T133221_R081_T22KFV_20201008...                       15.592183   \n",
       "S2A_MSIL2A_20181226T132231_R038_T22KFV_20201008...                       11.748493   \n",
       "S2B_MSIL2A_20181224T133219_R081_T22KFV_20201031...                       71.717769   \n",
       "S2B_MSIL2A_20181221T132229_R038_T22KFV_20201008...                        2.006736   \n",
       "...                                                                            ...   \n",
       "S2A_MSIL2A_20160104T133102_R081_T22KFV_20210527...                       77.472007   \n",
       "S2A_MSIL2A_20151222T132122_R038_T22KFV_20210526...                       18.538016   \n",
       "S2A_MSIL2A_20151122T132122_R038_T22KFV_20210413...                        9.561482   \n",
       "S2A_MSIL2A_20151003T132816_R038_T22KFV_20210412...                        90.45133   \n",
       "S2A_MSIL2A_20150824T132816_R038_T22KFV_20210412...                       85.489762   \n",
       "\n",
       "                                                   s2:reflectance_conversion_factor  \\\n",
       "id                                                                                    \n",
       "S2B_MSIL2A_20181231T132229_R038_T22KFV_20201008...                         1.034082   \n",
       "S2A_MSIL2A_20181229T133221_R081_T22KFV_20201008...                         1.033922   \n",
       "S2A_MSIL2A_20181226T132231_R038_T22KFV_20201008...                         1.033604   \n",
       "S2B_MSIL2A_20181224T133219_R081_T22KFV_20201031...                         1.033342   \n",
       "S2B_MSIL2A_20181221T132229_R038_T22KFV_20201008...                         1.032871   \n",
       "...                                                                             ...   \n",
       "S2A_MSIL2A_20160104T133102_R081_T22KFV_20210527...                         1.034277   \n",
       "S2A_MSIL2A_20151222T132122_R038_T22KFV_20210526...                         1.033022   \n",
       "S2A_MSIL2A_20151122T132122_R038_T22KFV_20210413...                         1.024011   \n",
       "S2A_MSIL2A_20151003T132816_R038_T22KFV_20210412...                         0.997412   \n",
       "S2A_MSIL2A_20150824T132816_R038_T22KFV_20210412...                         0.977211   \n",
       "\n",
       "                                                   s2:medium_proba_clouds_percentage  \\\n",
       "id                                                                                     \n",
       "S2B_MSIL2A_20181231T132229_R038_T22KFV_20201008...                          0.081755   \n",
       "S2A_MSIL2A_20181229T133221_R081_T22KFV_20201008...                           4.16415   \n",
       "S2A_MSIL2A_20181226T132231_R038_T22KFV_20201008...                          6.771243   \n",
       "S2B_MSIL2A_20181224T133219_R081_T22KFV_20201031...                         26.575863   \n",
       "S2B_MSIL2A_20181221T132229_R038_T22KFV_20201008...                         55.385661   \n",
       "...                                                                              ...   \n",
       "S2A_MSIL2A_20160104T133102_R081_T22KFV_20210527...                         13.706034   \n",
       "S2A_MSIL2A_20151222T132122_R038_T22KFV_20210526...                          10.45617   \n",
       "S2A_MSIL2A_20151122T132122_R038_T22KFV_20210413...                         28.492936   \n",
       "S2A_MSIL2A_20151003T132816_R038_T22KFV_20210412...                          6.695309   \n",
       "S2A_MSIL2A_20150824T132816_R038_T22KFV_20210412...                         13.868511   \n",
       "\n",
       "                                                   s2:saturated_defective_pixel_percentage  \\\n",
       "id                                                                                           \n",
       "S2B_MSIL2A_20181231T132229_R038_T22KFV_20201008...                                     0.0   \n",
       "S2A_MSIL2A_20181229T133221_R081_T22KFV_20201008...                                     0.0   \n",
       "S2A_MSIL2A_20181226T132231_R038_T22KFV_20201008...                                     0.0   \n",
       "S2B_MSIL2A_20181224T133219_R081_T22KFV_20201031...                                     0.0   \n",
       "S2B_MSIL2A_20181221T132229_R038_T22KFV_20201008...                                     0.0   \n",
       "...                                                                                    ...   \n",
       "S2A_MSIL2A_20160104T133102_R081_T22KFV_20210527...                                     0.0   \n",
       "S2A_MSIL2A_20151222T132122_R038_T22KFV_20210526...                                     0.0   \n",
       "S2A_MSIL2A_20151122T132122_R038_T22KFV_20210413...                                     0.0   \n",
       "S2A_MSIL2A_20151003T132816_R038_T22KFV_20210412...                                     0.0   \n",
       "S2A_MSIL2A_20150824T132816_R038_T22KFV_20210412...                                     0.0   \n",
       "\n",
       "                                                                                                 item  \n",
       "id                                                                                                     \n",
       "S2B_MSIL2A_20181231T132229_R038_T22KFV_20201008...  <Item id=S2B_MSIL2A_20181231T132229_R038_T22KF...  \n",
       "S2A_MSIL2A_20181229T133221_R081_T22KFV_20201008...  <Item id=S2A_MSIL2A_20181229T133221_R081_T22KF...  \n",
       "S2A_MSIL2A_20181226T132231_R038_T22KFV_20201008...  <Item id=S2A_MSIL2A_20181226T132231_R038_T22KF...  \n",
       "S2B_MSIL2A_20181224T133219_R081_T22KFV_20201031...  <Item id=S2B_MSIL2A_20181224T133219_R081_T22KF...  \n",
       "S2B_MSIL2A_20181221T132229_R038_T22KFV_20201008...  <Item id=S2B_MSIL2A_20181221T132229_R038_T22KF...  \n",
       "...                                                                                               ...  \n",
       "S2A_MSIL2A_20160104T133102_R081_T22KFV_20210527...  <Item id=S2A_MSIL2A_20160104T133102_R081_T22KF...  \n",
       "S2A_MSIL2A_20151222T132122_R038_T22KFV_20210526...  <Item id=S2A_MSIL2A_20151222T132122_R038_T22KF...  \n",
       "S2A_MSIL2A_20151122T132122_R038_T22KFV_20210413...  <Item id=S2A_MSIL2A_20151122T132122_R038_T22KF...  \n",
       "S2A_MSIL2A_20151003T132816_R038_T22KFV_20210412...  <Item id=S2A_MSIL2A_20151003T132816_R038_T22KF...  \n",
       "S2A_MSIL2A_20150824T132816_R038_T22KFV_20210412...  <Item id=S2A_MSIL2A_20150824T132816_R038_T22KF...  \n",
       "\n",
       "[231 rows x 34 columns]"
      ]
     },
     "execution_count": 4,
     "metadata": {},
     "output_type": "execute_result"
    }
   ],
   "source": [
    "downloader.search_df"
   ]
  },
  {
   "cell_type": "code",
   "execution_count": 5,
   "id": "7c730838-77a2-43d8-b66f-0004121fc415",
   "metadata": {},
   "outputs": [],
   "source": [
    "out_dir = 'e:/images/brasil_before_2019/22KFV'"
   ]
  },
  {
   "cell_type": "code",
   "execution_count": 14,
   "id": "f583d53d-25f3-4ae2-8bca-58638cb112d1",
   "metadata": {},
   "outputs": [
    {
     "data": {
      "text/plain": [
       "'S2A_MSIL2A_20181017T132231_R038_T22KFV_20201009T122614'"
      ]
     },
     "execution_count": 14,
     "metadata": {},
     "output_type": "execute_result"
    }
   ],
   "source": [
    "downloader.search_df.index[0]"
   ]
  },
  {
   "cell_type": "code",
   "execution_count": 10,
   "id": "77fe62fd-0e0c-4bee-a884-745e37134239",
   "metadata": {},
   "outputs": [],
   "source": [
    "# downloader.search_df.drop(index=downloader.search_df.index[:12], inplace=True)\n",
    "# downloader.search_df.drop(index=downloader.search_df.index[:18], inplace=True)"
   ]
  },
  {
   "cell_type": "code",
   "execution_count": 19,
   "id": "1502ecd1-cb4d-4f04-81cf-63f890535731",
   "metadata": {},
   "outputs": [
    {
     "data": {
      "application/vnd.jupyter.widget-view+json": {
       "model_id": "246e7eb3d87a47b7a57437e6347bac5e",
       "version_major": 2,
       "version_minor": 0
      },
      "text/plain": [
       "All images:   0%|          | 0/201 [00:00<?, ? img/s]"
      ]
     },
     "metadata": {},
     "output_type": "display_data"
    },
    {
     "data": {
      "application/vnd.jupyter.widget-view+json": {
       "model_id": "8984f40cc7654f7da6cdaa53d9dfe285",
       "version_major": 2,
       "version_minor": 0
      },
      "text/plain": [
       "S2A_MSIL2A_20181017T132231_R038_T22KFV_20201009T122614:   0%|          | 0.00/1.47G [00:00<?, ?b/s]"
      ]
     },
     "metadata": {},
     "output_type": "display_data"
    },
    {
     "data": {
      "application/vnd.jupyter.widget-view+json": {
       "model_id": "991701d00de04a349088f35b2edef229",
       "version_major": 2,
       "version_minor": 0
      },
      "text/plain": [
       "S2B_MSIL2A_20181015T133219_R081_T22KFV_20201009T115450:   0%|          | 0.00/1.15G [00:00<?, ?b/s]"
      ]
     },
     "metadata": {},
     "output_type": "display_data"
    },
    {
     "data": {
      "application/vnd.jupyter.widget-view+json": {
       "model_id": "9e535b2e404f46f2bfe3bf13fb14e2c1",
       "version_major": 2,
       "version_minor": 0
      },
      "text/plain": [
       "S2B_MSIL2A_20181012T132229_R038_T22KFV_20201009T105557:   0%|          | 0.00/1.30G [00:00<?, ?b/s]"
      ]
     },
     "metadata": {},
     "output_type": "display_data"
    },
    {
     "data": {
      "application/vnd.jupyter.widget-view+json": {
       "model_id": "73ec6a64d2b940d19017fd38465e76bb",
       "version_major": 2,
       "version_minor": 0
      },
      "text/plain": [
       "S2A_MSIL2A_20181010T133221_R081_T22KFV_20201009T100622:   0%|          | 0.00/980M [00:00<?, ?b/s]"
      ]
     },
     "metadata": {},
     "output_type": "display_data"
    },
    {
     "data": {
      "application/vnd.jupyter.widget-view+json": {
       "model_id": "ea8ae5ce954841d6b794c87d620fdbf2",
       "version_major": 2,
       "version_minor": 0
      },
      "text/plain": [
       "S2A_MSIL2A_20181007T132231_R038_T22KFV_20201009T090252:   0%|          | 0.00/1.09G [00:00<?, ?b/s]"
      ]
     },
     "metadata": {},
     "output_type": "display_data"
    },
    {
     "data": {
      "application/vnd.jupyter.widget-view+json": {
       "model_id": "c0e311894bec484582f5e59eddc8931a",
       "version_major": 2,
       "version_minor": 0
      },
      "text/plain": [
       "S2B_MSIL2A_20181005T133219_R081_T22KFV_20201009T083120:   0%|          | 0.00/1.08G [00:00<?, ?b/s]"
      ]
     },
     "metadata": {},
     "output_type": "display_data"
    },
    {
     "data": {
      "application/vnd.jupyter.widget-view+json": {
       "model_id": "464ac70924f04aa8abddde4515598834",
       "version_major": 2,
       "version_minor": 0
      },
      "text/plain": [
       "S2B_MSIL2A_20181002T132229_R038_T22KFV_20201009T072702:   0%|          | 0.00/1.20G [00:00<?, ?b/s]"
      ]
     },
     "metadata": {},
     "output_type": "display_data"
    },
    {
     "data": {
      "application/vnd.jupyter.widget-view+json": {
       "model_id": "256a40e1c9954d358edc6a5da4892ae4",
       "version_major": 2,
       "version_minor": 0
      },
      "text/plain": [
       "S2A_MSIL2A_20180930T133221_R081_T22KFV_20201009T063156:   0%|          | 0.00/538M [00:00<?, ?b/s]"
      ]
     },
     "metadata": {},
     "output_type": "display_data"
    },
    {
     "data": {
      "application/vnd.jupyter.widget-view+json": {
       "model_id": "b9051077251747fcb9b4508469111d2d",
       "version_major": 2,
       "version_minor": 0
      },
      "text/plain": [
       "S2A_MSIL2A_20180927T132231_R038_T22KFV_20201009T052637:   0%|          | 0.00/845M [00:00<?, ?b/s]"
      ]
     },
     "metadata": {},
     "output_type": "display_data"
    },
    {
     "data": {
      "application/vnd.jupyter.widget-view+json": {
       "model_id": "635ceba3760643c7896fb6f2db497fec",
       "version_major": 2,
       "version_minor": 0
      },
      "text/plain": [
       "S2B_MSIL2A_20180925T133219_R081_T22KFV_20201009T045316:   0%|          | 0.00/946M [00:00<?, ?b/s]"
      ]
     },
     "metadata": {},
     "output_type": "display_data"
    },
    {
     "data": {
      "application/vnd.jupyter.widget-view+json": {
       "model_id": "4a50d8c10fdc40609f36bb5144e9d0fb",
       "version_major": 2,
       "version_minor": 0
      },
      "text/plain": [
       "S2B_MSIL2A_20180922T132229_R038_T22KFV_20201009T035231:   0%|          | 0.00/1.43G [00:00<?, ?b/s]"
      ]
     },
     "metadata": {},
     "output_type": "display_data"
    },
    {
     "data": {
      "application/vnd.jupyter.widget-view+json": {
       "model_id": "0e8453a32bd34cdeb63a377f203050be",
       "version_major": 2,
       "version_minor": 0
      },
      "text/plain": [
       "S2A_MSIL2A_20180920T133221_R081_T22KFV_20201009T030358:   0%|          | 0.00/559M [00:00<?, ?b/s]"
      ]
     },
     "metadata": {},
     "output_type": "display_data"
    },
    {
     "data": {
      "application/vnd.jupyter.widget-view+json": {
       "model_id": "645993307ab34a1c8ba8a99592e09b99",
       "version_major": 2,
       "version_minor": 0
      },
      "text/plain": [
       "S2A_MSIL2A_20180917T132231_R038_T22KFV_20201009T015905:   0%|          | 0.00/884M [00:00<?, ?b/s]"
      ]
     },
     "metadata": {},
     "output_type": "display_data"
    },
    {
     "data": {
      "application/vnd.jupyter.widget-view+json": {
       "model_id": "8f25682b4a1a4c36ba1fffde446e69eb",
       "version_major": 2,
       "version_minor": 0
      },
      "text/plain": [
       "S2B_MSIL2A_20180915T133219_R081_T22KFV_20201009T013145:   0%|          | 0.00/902M [00:00<?, ?b/s]"
      ]
     },
     "metadata": {},
     "output_type": "display_data"
    },
    {
     "data": {
      "application/vnd.jupyter.widget-view+json": {
       "model_id": "478b8dcabfed4ed9ac9b987a9e744d06",
       "version_major": 2,
       "version_minor": 0
      },
      "text/plain": [
       "S2B_MSIL2A_20180912T132229_R038_T22KFV_20201009T003222:   0%|          | 0.00/1.48G [00:00<?, ?b/s]"
      ]
     },
     "metadata": {},
     "output_type": "display_data"
    },
    {
     "data": {
      "application/vnd.jupyter.widget-view+json": {
       "model_id": "5a44930689474e8db326d56ecfb60b79",
       "version_major": 2,
       "version_minor": 0
      },
      "text/plain": [
       "S2A_MSIL2A_20180910T133221_R081_T22KFV_20201008T233636:   0%|          | 0.00/1.10G [00:00<?, ?b/s]"
      ]
     },
     "metadata": {},
     "output_type": "display_data"
    },
    {
     "name": "stderr",
     "output_type": "stream",
     "text": [
      "11:46:01 ERROR:Error getting https://sentinel2l2a01.blob.core.windows.net/sentinel2-l2/22/K/FV/2018/09/10/S2A_MSIL2A_20180910T133221_N0212_R081_T22KFV_20201008T233636.SAFE/GRANULE/L2A_T22KFV_A016809_20180910T133815/IMG_DATA/R10m/T22KFV_20180910T133221_TCI_10m.tif?st=2021-11-16T10%3A00%3A02Z&se=2021-11-17T10%3A45%3A02Z&sp=rl&sv=2020-06-12&sr=c&skoid=c85c15d6-d1ae-42d4-af60-e2ca0f81359b&sktid=72f988bf-86f1-41af-91ab-2d7cd011db47&skt=2021-11-17T09%3A00%3A02Z&ske=2021-11-18T10%3A00%3A02Z&sks=b&skv=2020-06-12&sig=L7uhc%2BnJywQZEbeqzICKo0Q3t0fENyUOC%2B/v%2BsTxvl8%3D\n"
     ]
    }
   ],
   "source": [
    "r = downloader.download_all(out_dir)"
   ]
  },
  {
   "cell_type": "code",
   "execution_count": 20,
   "id": "52baaac0-43a3-4409-a788-2d886e0a7772",
   "metadata": {},
   "outputs": [
    {
     "data": {
      "text/plain": [
       "<Response [403]>"
      ]
     },
     "execution_count": 20,
     "metadata": {},
     "output_type": "execute_result"
    }
   ],
   "source": [
    "r"
   ]
  },
  {
   "cell_type": "code",
   "execution_count": null,
   "id": "afb5604c-736f-410f-97ca-b3533766545a",
   "metadata": {},
   "outputs": [],
   "source": []
  },
  {
   "cell_type": "code",
   "execution_count": 105,
   "id": "bc2dba20-3a49-49e8-ba83-8e95364f85c4",
   "metadata": {},
   "outputs": [
    {
     "name": "stderr",
     "output_type": "stream",
     "text": [
      "10:02:06 DEBUG:Downloading asset AOT\n",
      "10:02:06 DEBUG:Downloading asset Aerosol optical thickness (AOT)\n",
      "2962kb [00:00, 3616.61kb/s]                                                                                            \n",
      "10:02:07 DEBUG:Downloading asset B01\n",
      "10:02:07 DEBUG:Downloading asset Band 1 - Coastal aerosol - 60m\n",
      "5630kb [00:01, 3602.04kb/s]                                                                                            \n",
      "10:02:08 DEBUG:Downloading asset B02\n",
      "10:02:09 DEBUG:Downloading asset Band 2 - Blue - 10m\n",
      "100%|██████████████████████████████████████████████████████████████▉| 200097/200335.55078125 [01:17<00:00, 4076.29kb/s]D:\\Programs\\miniconda3\\envs\\planetary\\lib\\site-packages\\tqdm\\std.py:533: TqdmWarning: clamping frac to range [0, 1]\n",
      "  full_bar = Bar(frac,\n",
      "100%|███████████████████████████████████████████████████████████████| 200336/200335.55078125 [01:17<00:00, 2587.19kb/s]\n",
      "10:03:26 DEBUG:Downloading asset B03\n",
      "10:03:26 DEBUG:Downloading asset Band 3 - Green - 10m\n",
      "206088kb [01:05, 3148.86kb/s]                                                                                          \n",
      "10:04:32 DEBUG:Downloading asset B04\n",
      "10:04:32 DEBUG:Downloading asset Band 4 - Red - 10m\n",
      "100%|█████████████████████████████████████████████████████████████| 211777/211776.9111328125 [01:18<00:00, 2707.27kb/s]\n",
      "10:05:51 DEBUG:Downloading asset B05\n",
      "10:05:51 DEBUG:Downloading asset Band 5 - Vegetation red edge 1 - 20m\n",
      "56261kb [00:15, 3630.13kb/s]                                                                                           \n",
      "10:06:06 DEBUG:Downloading asset B06\n",
      "10:06:07 DEBUG:Downloading asset Band 6 - Vegetation red edge 2 - 20m\n",
      "58153kb [00:21, 2652.04kb/s]                                                                                           \n",
      "10:06:29 DEBUG:Downloading asset B07\n",
      "10:06:29 DEBUG:Downloading asset Band 7 - Vegetation red edge 3 - 20m\n",
      "100%|███████████████████████████████████████████████████████████████| 59337/59336.5048828125 [00:21<00:00, 2723.31kb/s]\n",
      "10:06:51 DEBUG:Downloading asset B08\n",
      "10:06:51 DEBUG:Downloading asset Band 8 - NIR - 10m\n",
      "100%|██████████████████████████████████████████████████████████████| 216054/216053.728515625 [01:23<00:00, 2583.20kb/s]\n",
      "10:08:15 DEBUG:Downloading asset B09\n",
      "10:08:15 DEBUG:Downloading asset Band 9 - Water vapor - 60m\n",
      "100%|█████████████████████████████████████████████████████████████████| 6833/6832.9833984375 [00:03<00:00, 2094.13kb/s]\n",
      "10:08:18 DEBUG:Downloading asset B11\n",
      "10:08:18 DEBUG:Downloading asset Band 11 - SWIR (1.6) - 20m\n",
      "100%|███████████████████████████████████████████████████████████████| 58809/58808.8837890625 [00:19<00:00, 3093.16kb/s]\n",
      "10:08:38 DEBUG:Downloading asset B12\n",
      "10:08:38 DEBUG:Downloading asset Band 12 - SWIR (2.2) - 20m\n",
      "58714kb [00:20, 2930.34kb/s]                                                                                           \n",
      "10:08:58 DEBUG:Downloading asset B8A\n",
      "10:08:58 DEBUG:Downloading asset Band 8A - Vegetation red edge 4 - 20m\n",
      "59661kb [00:23, 2543.24kb/s]                                                                                           \n",
      "10:09:21 DEBUG:Downloading asset SCL\n",
      "10:09:22 DEBUG:Downloading asset Scene classfication map (SCL)\n",
      "100%|███████████████████████████████████████████████████████████████████| 3395/3394.51171875 [00:00<00:00, 4751.42kb/s]\n",
      "10:09:22 DEBUG:Downloading asset WVP\n",
      "10:09:23 DEBUG:Downloading asset Water vapour (WVP)\n",
      "97554kb [00:31, 3134.45kb/s]                                                                                           \n",
      "10:09:54 DEBUG:Downloading asset visual\n",
      "10:09:54 DEBUG:Downloading asset True color image\n",
      "306799kb [02:02, 2503.55kb/s]                                                                                          \n",
      "10:11:57 DEBUG:Downloading asset preview\n",
      "10:11:57 DEBUG:Downloading asset Thumbnail\n",
      "391kb [00:00, 2630.82kb/s]                                                                                             \n",
      "10:11:57 DEBUG:Downloading asset safe-manifest\n",
      "10:11:58 DEBUG:Downloading asset SAFE manifest\n",
      "69kb [00:00, 1083.83kb/s]                                                                                              \n",
      "10:11:58 DEBUG:Downloading asset granule-metadata\n",
      "10:11:58 DEBUG:Downloading asset Granule metadata\n",
      "617kb [00:00, 2749.72kb/s]                                                                                             \n",
      "10:11:58 DEBUG:Downloading asset inspire-metadata\n",
      "10:11:58 DEBUG:Downloading asset INSPIRE metadata\n",
      "15kb [00:00, 7502.33kb/s]                                                                                              \n",
      "10:11:58 DEBUG:Downloading asset product-metadata\n",
      "10:11:58 DEBUG:Downloading asset Product metadata\n",
      "51kb [00:00, 1888.76kb/s]                                                                                              \n",
      "10:11:58 DEBUG:Downloading asset datastrip-metadata\n",
      "10:11:59 DEBUG:Downloading asset Datastrip metadata\n",
      "100%|███████████████████████████████████████████████████████████████| 18968/18967.6845703125 [00:10<00:00, 1737.08kb/s]\n",
      "10:12:10 DEBUG:Downloading asset tilejson\n",
      "10:12:11 DEBUG:Downloading asset TileJSON with default rendering\n",
      "197%|███████████████████████████████████████████████████████████████████████████| 1/0.5078125 [00:00<00:00, 997.69kb/s]\n",
      "10:12:11 DEBUG:Downloading asset rendered_preview\n",
      "10:12:12 DEBUG:Downloading asset Rendered preview\n",
      "100%|████████████████████████████████████████████████████████████████| 2791/2790.9169921875 [00:00<00:00, 10338.46kb/s]\n"
     ]
    }
   ],
   "source": [
    "downloader.download(idx=downloader.search_df.index[0], out_dir='d:/temp')"
   ]
  },
  {
   "cell_type": "code",
   "execution_count": 98,
   "id": "94899de3-d4e7-4832-aeec-e82d30c3492b",
   "metadata": {},
   "outputs": [],
   "source": [
    "item = downloader.search_df.iloc[0, -1]"
   ]
  },
  {
   "cell_type": "code",
   "execution_count": 103,
   "id": "3f48e947-5a45-47f0-bf6f-c151573e16cc",
   "metadata": {},
   "outputs": [
    {
     "name": "stderr",
     "output_type": "stream",
     "text": [
      "10:00:55 DEBUG:Downloading asset Aerosol optical thickness (AOT)\n",
      "2962kb [00:00, 6132.50kb/s]                                                                                            \n"
     ]
    }
   ],
   "source": [
    "downloader.download_asset(item.assets['AOT'], 'd:/temp/')"
   ]
  },
  {
   "cell_type": "code",
   "execution_count": 87,
   "id": "f485ff2f-3a75-43e4-b800-b317ff25ec8d",
   "metadata": {},
   "outputs": [],
   "source": [
    "asset = item.assets['B01']"
   ]
  },
  {
   "cell_type": "code",
   "execution_count": 92,
   "id": "e3476137-c4bb-4da0-aa25-b288c15bd010",
   "metadata": {},
   "outputs": [
    {
     "data": {
      "text/plain": [
       "'Band 1 - Coastal aerosol - 60m'"
      ]
     },
     "execution_count": 92,
     "metadata": {},
     "output_type": "execute_result"
    }
   ],
   "source": [
    "asset.title"
   ]
  },
  {
   "cell_type": "code",
   "execution_count": 93,
   "id": "a7b40512-3ab8-471c-92c7-a6bbd02820c3",
   "metadata": {},
   "outputs": [
    {
     "data": {
      "text/plain": [
       "'https://sentinel2l2a01.blob.core.windows.net/sentinel2-l2/22/K/DV/2021/10/29/S2B_MSIL2A_20211029T133229_N0300_R081_T22KDV_20211030T024528.SAFE/GRANULE/L2A_T22KDV_A024274_20211029T133225/IMG_DATA/R60m/T22KDV_20211029T133229_B01_60m.tif'"
      ]
     },
     "execution_count": 93,
     "metadata": {},
     "output_type": "execute_result"
    }
   ],
   "source": [
    "asset.href"
   ]
  },
  {
   "cell_type": "code",
   "execution_count": 107,
   "id": "0b53a509-d642-4f34-bd59-1b034de2a197",
   "metadata": {},
   "outputs": [],
   "source": [
    "import rasterio as rio"
   ]
  },
  {
   "cell_type": "code",
   "execution_count": 108,
   "id": "c1261498-001c-4e89-b020-ed11ca9d00ac",
   "metadata": {},
   "outputs": [
    {
     "data": {
      "text/plain": [
       "(1, 10980, 10980)"
      ]
     },
     "execution_count": 108,
     "metadata": {},
     "output_type": "execute_result"
    }
   ],
   "source": [
    "ds = rio.open(r'D:\\temp\\S2B_MSIL2A_20211029T133229_R081_T22KDV_20211030T024528.PC\\T22KDV_20211029T133229_B02_10m.tif')\n",
    "ds.read().shape"
   ]
  },
  {
   "cell_type": "code",
   "execution_count": 109,
   "id": "7e31b973-8a03-40f2-8cb4-ec9d00deb45c",
   "metadata": {},
   "outputs": [
    {
     "data": {
      "text/plain": [
       "CRS.from_epsg(32722)"
      ]
     },
     "execution_count": 109,
     "metadata": {},
     "output_type": "execute_result"
    }
   ],
   "source": [
    "ds.crs"
   ]
  },
  {
   "cell_type": "markdown",
   "id": "fa860ac3-5663-4971-bfa0-a812ad710a09",
   "metadata": {},
   "source": [
    "# Open a STAC catalog"
   ]
  },
  {
   "cell_type": "code",
   "execution_count": 15,
   "id": "437c7772-4972-4356-b7dd-fae51a374f95",
   "metadata": {},
   "outputs": [],
   "source": [
    "from pystac_client import Client\n",
    "\n",
    "catalog = Client.open(\"https://planetarycomputer.microsoft.com/api/stac/v1\")"
   ]
  },
  {
   "cell_type": "code",
   "execution_count": 16,
   "id": "aa76afa4-5743-4c01-a4b0-e263ab1b867c",
   "metadata": {},
   "outputs": [
    {
     "name": "stdout",
     "output_type": "stream",
     "text": [
      "gap - USGS Gap Land Cover\n",
      "nasadem - NASADEM HGT v001\n",
      "daymet-annual-na - Daymet Annual North America\n",
      "hrea - HREA: High Resolution Electricity Access\n",
      "daymet-monthly-hi - Daymet Monthly Hawaii\n",
      "daymet-daily-na - Daymet Daily North America\n",
      "daymet-monthly-na - Daymet Monthly North America\n",
      "daymet-annual-pr - Daymet Annual Puerto Rico\n",
      "daymet-daily-pr - Daymet Daily Puerto Rico\n",
      "daymet-daily-hi - Daymet Daily Hawaii\n",
      "daymet-monthly-pr - Daymet Monthly Puerto Rico\n",
      "aster-l1t - ASTER L1T\n",
      "daymet-annual-hi - Daymet Annual Hawaii\n",
      "io-lulc - Esri 10-Meter Land Cover\n",
      "jrc-gsw - JRC Global Surface Water\n",
      "landsat-8-c2-l2 - Landsat 8 Collection 2 Level-2\n",
      "mobi - MoBI: Map of Biodiversity Importance\n",
      "mtbs - MTBS: Monitoring Trends in Burn Severity\n",
      "terraclimate - TerraClimate\n",
      "sentinel-2-l2a - Sentinel-2 Level-2A\n",
      "us-census - US Census\n",
      "cop-dem-glo-30 - Copernicus DEM GLO-30\n",
      "cop-dem-glo-90 - Copernicus DEM GLO-90\n",
      "fia - Forest Inventory and Analysis\n",
      "gbif - Global Biodiversity Information Facility (GBIF)\n",
      "goes-cmi - GOES-R Cloud & Moisture Imagery\n",
      "3dep-seamless - USGS 3DEP Seamless DEMs\n",
      "alos-dem - ALOS World 3D-30m\n",
      "gridmet - gridMET\n",
      "hgb - HGB: Harmonized Global Biomass for 2010\n",
      "naip - NAIP: National Agriculture Imagery Program\n"
     ]
    }
   ],
   "source": [
    "collections = catalog.get_children()\n",
    "for collection in collections:\n",
    "    print(f\"{collection.id} - {collection.title}\")"
   ]
  },
  {
   "cell_type": "code",
   "execution_count": 17,
   "id": "5e6918bb-f496-4ca8-a8e4-a28857af2e1b",
   "metadata": {},
   "outputs": [],
   "source": [
    "sentinel = catalog.get_child(\"sentinel-2-l2a\")"
   ]
  },
  {
   "cell_type": "code",
   "execution_count": 18,
   "id": "afb19d6b-df6c-4627-9b44-06495603cfb9",
   "metadata": {},
   "outputs": [
    {
     "name": "stdout",
     "output_type": "stream",
     "text": [
      "AOT : aerosol optical thickness (XXm resolution)\n",
      "B01 (coastal): coastal aerosol (60m resolution)\n",
      "B02 (blue): visible blue (10m resolution)\n",
      "B03 (green): visible green (10m resolution)\n",
      "B04 (red): visible red (10m resolution)\n",
      "B05 (rededge): vegetation classification red edge (20m resolution)\n",
      "B06 (rededge): vegetation classification red edge (20m resolution)\n",
      "B07 (rededge): vegetation classification red edge (20m resolution)\n",
      "B08 (nir): near infrared (10m resolution)\n",
      "B8A (rededge): vegetation classification red edge (20m resolution)\n",
      "B09 : water vapor (60m resolution)\n",
      "B11 (swir16): short-wave infrared, snow/ice/cloud classification (20m resolution)\n",
      "B12 (swir22): short-wave infrared, snow/ice/cloud classification (20m resolution)\n"
     ]
    }
   ],
   "source": [
    "for band in sentinel.extra_fields[\"summaries\"][\"eo:bands\"]:\n",
    "    name = band[\"name\"]\n",
    "    description = band[\"description\"]\n",
    "    common_name = \"\" if \"common_name\" not in band else f\"({band['common_name']})\"\n",
    "    ground_sample_distance = band[\"gsd\"] if 'gsd' in band else 'XX'\n",
    "    print(f\"{name} {common_name}: {description} ({ground_sample_distance}m resolution)\")"
   ]
  },
  {
   "cell_type": "code",
   "execution_count": 19,
   "id": "9f8d40e3-b83e-47b8-908e-54f2f4842ddd",
   "metadata": {},
   "outputs": [
    {
     "data": {
      "text/plain": [
       "{'name': 'AOT', 'description': 'aerosol optical thickness'}"
      ]
     },
     "execution_count": 19,
     "metadata": {},
     "output_type": "execute_result"
    }
   ],
   "source": [
    "sentinel.extra_fields['summaries']['eo:bands'][0]"
   ]
  },
  {
   "cell_type": "markdown",
   "id": "63992d23-4cc0-449c-9bf5-83d44a925b0d",
   "metadata": {},
   "source": [
    "# Perform a search"
   ]
  },
  {
   "cell_type": "markdown",
   "id": "95bf2f15-e6db-459a-9453-5ef4bb07f902",
   "metadata": {},
   "source": [
    "To check all options from the search method, it is necessary to check the ItemSearch class"
   ]
  },
  {
   "cell_type": "code",
   "execution_count": 20,
   "id": "c21e9a09-9e60-40d9-a098-02a757fa477f",
   "metadata": {
    "tags": []
   },
   "outputs": [],
   "source": [
    "from pystac_client import ItemSearch"
   ]
  },
  {
   "cell_type": "code",
   "execution_count": 21,
   "id": "4a0e9da9-2ac3-4743-88f5-c088c2cdbca2",
   "metadata": {},
   "outputs": [
    {
     "data": {
      "text/plain": [
       "\u001b[1;31mInit signature:\u001b[0m\n",
       "\u001b[0mItemSearch\u001b[0m\u001b[1;33m(\u001b[0m\u001b[1;33m\n",
       "\u001b[0m    \u001b[0murl\u001b[0m\u001b[1;33m:\u001b[0m \u001b[0mstr\u001b[0m\u001b[1;33m,\u001b[0m\u001b[1;33m\n",
       "\u001b[0m    \u001b[1;33m*\u001b[0m\u001b[1;33m,\u001b[0m\u001b[1;33m\n",
       "\u001b[0m    \u001b[0mlimit\u001b[0m\u001b[1;33m:\u001b[0m \u001b[0mUnion\u001b[0m\u001b[1;33m[\u001b[0m\u001b[0mint\u001b[0m\u001b[1;33m,\u001b[0m \u001b[0mNoneType\u001b[0m\u001b[1;33m]\u001b[0m \u001b[1;33m=\u001b[0m \u001b[1;32mNone\u001b[0m\u001b[1;33m,\u001b[0m\u001b[1;33m\n",
       "\u001b[0m    \u001b[0mbbox\u001b[0m\u001b[1;33m:\u001b[0m \u001b[0mUnion\u001b[0m\u001b[1;33m[\u001b[0m\u001b[0mTuple\u001b[0m\u001b[1;33m[\u001b[0m\u001b[0mfloat\u001b[0m\u001b[1;33m,\u001b[0m \u001b[1;33m...\u001b[0m\u001b[1;33m]\u001b[0m\u001b[1;33m,\u001b[0m \u001b[0mList\u001b[0m\u001b[1;33m[\u001b[0m\u001b[0mfloat\u001b[0m\u001b[1;33m]\u001b[0m\u001b[1;33m,\u001b[0m \u001b[0mIterator\u001b[0m\u001b[1;33m[\u001b[0m\u001b[0mfloat\u001b[0m\u001b[1;33m]\u001b[0m\u001b[1;33m,\u001b[0m \u001b[0mstr\u001b[0m\u001b[1;33m,\u001b[0m \u001b[0mNoneType\u001b[0m\u001b[1;33m]\u001b[0m \u001b[1;33m=\u001b[0m \u001b[1;32mNone\u001b[0m\u001b[1;33m,\u001b[0m\u001b[1;33m\n",
       "\u001b[0m    \u001b[0mdatetime\u001b[0m\u001b[1;33m:\u001b[0m \u001b[0mUnion\u001b[0m\u001b[1;33m[\u001b[0m\u001b[0mdatetime\u001b[0m\u001b[1;33m.\u001b[0m\u001b[0mdatetime\u001b[0m\u001b[1;33m,\u001b[0m \u001b[0mstr\u001b[0m\u001b[1;33m,\u001b[0m \u001b[0mNoneType\u001b[0m\u001b[1;33m,\u001b[0m \u001b[0mTuple\u001b[0m\u001b[1;33m[\u001b[0m\u001b[0mUnion\u001b[0m\u001b[1;33m[\u001b[0m\u001b[0mdatetime\u001b[0m\u001b[1;33m.\u001b[0m\u001b[0mdatetime\u001b[0m\u001b[1;33m,\u001b[0m \u001b[0mstr\u001b[0m\u001b[1;33m,\u001b[0m \u001b[0mNoneType\u001b[0m\u001b[1;33m]\u001b[0m\u001b[1;33m,\u001b[0m \u001b[0mUnion\u001b[0m\u001b[1;33m[\u001b[0m\u001b[0mdatetime\u001b[0m\u001b[1;33m.\u001b[0m\u001b[0mdatetime\u001b[0m\u001b[1;33m,\u001b[0m \u001b[0mstr\u001b[0m\u001b[1;33m,\u001b[0m \u001b[0mNoneType\u001b[0m\u001b[1;33m]\u001b[0m\u001b[1;33m]\u001b[0m\u001b[1;33m,\u001b[0m \u001b[0mList\u001b[0m\u001b[1;33m[\u001b[0m\u001b[0mUnion\u001b[0m\u001b[1;33m[\u001b[0m\u001b[0mdatetime\u001b[0m\u001b[1;33m.\u001b[0m\u001b[0mdatetime\u001b[0m\u001b[1;33m,\u001b[0m \u001b[0mstr\u001b[0m\u001b[1;33m,\u001b[0m \u001b[0mNoneType\u001b[0m\u001b[1;33m]\u001b[0m\u001b[1;33m]\u001b[0m\u001b[1;33m,\u001b[0m \u001b[0mIterator\u001b[0m\u001b[1;33m[\u001b[0m\u001b[0mUnion\u001b[0m\u001b[1;33m[\u001b[0m\u001b[0mdatetime\u001b[0m\u001b[1;33m.\u001b[0m\u001b[0mdatetime\u001b[0m\u001b[1;33m,\u001b[0m \u001b[0mstr\u001b[0m\u001b[1;33m,\u001b[0m \u001b[0mNoneType\u001b[0m\u001b[1;33m]\u001b[0m\u001b[1;33m]\u001b[0m\u001b[1;33m]\u001b[0m \u001b[1;33m=\u001b[0m \u001b[1;32mNone\u001b[0m\u001b[1;33m,\u001b[0m\u001b[1;33m\n",
       "\u001b[0m    \u001b[0mintersects\u001b[0m\u001b[1;33m:\u001b[0m \u001b[0mUnion\u001b[0m\u001b[1;33m[\u001b[0m\u001b[0mstr\u001b[0m\u001b[1;33m,\u001b[0m \u001b[0mdict\u001b[0m\u001b[1;33m,\u001b[0m \u001b[0mobject\u001b[0m\u001b[1;33m,\u001b[0m \u001b[0mNoneType\u001b[0m\u001b[1;33m]\u001b[0m \u001b[1;33m=\u001b[0m \u001b[1;32mNone\u001b[0m\u001b[1;33m,\u001b[0m\u001b[1;33m\n",
       "\u001b[0m    \u001b[0mids\u001b[0m\u001b[1;33m:\u001b[0m \u001b[0mUnion\u001b[0m\u001b[1;33m[\u001b[0m\u001b[0mTuple\u001b[0m\u001b[1;33m[\u001b[0m\u001b[0mstr\u001b[0m\u001b[1;33m,\u001b[0m \u001b[1;33m...\u001b[0m\u001b[1;33m]\u001b[0m\u001b[1;33m,\u001b[0m \u001b[0mstr\u001b[0m\u001b[1;33m,\u001b[0m \u001b[0mList\u001b[0m\u001b[1;33m[\u001b[0m\u001b[0mstr\u001b[0m\u001b[1;33m]\u001b[0m\u001b[1;33m,\u001b[0m \u001b[0mIterator\u001b[0m\u001b[1;33m[\u001b[0m\u001b[0mstr\u001b[0m\u001b[1;33m]\u001b[0m\u001b[1;33m,\u001b[0m \u001b[0mNoneType\u001b[0m\u001b[1;33m]\u001b[0m \u001b[1;33m=\u001b[0m \u001b[1;32mNone\u001b[0m\u001b[1;33m,\u001b[0m\u001b[1;33m\n",
       "\u001b[0m    \u001b[0mcollections\u001b[0m\u001b[1;33m:\u001b[0m \u001b[0mUnion\u001b[0m\u001b[1;33m[\u001b[0m\u001b[0mList\u001b[0m\u001b[1;33m[\u001b[0m\u001b[0mstr\u001b[0m\u001b[1;33m]\u001b[0m\u001b[1;33m,\u001b[0m \u001b[0mIterator\u001b[0m\u001b[1;33m[\u001b[0m\u001b[0mstr\u001b[0m\u001b[1;33m]\u001b[0m\u001b[1;33m,\u001b[0m \u001b[0mstr\u001b[0m\u001b[1;33m,\u001b[0m \u001b[0mNoneType\u001b[0m\u001b[1;33m]\u001b[0m \u001b[1;33m=\u001b[0m \u001b[1;32mNone\u001b[0m\u001b[1;33m,\u001b[0m\u001b[1;33m\n",
       "\u001b[0m    \u001b[0mquery\u001b[0m\u001b[1;33m:\u001b[0m \u001b[0mUnion\u001b[0m\u001b[1;33m[\u001b[0m\u001b[0mdict\u001b[0m\u001b[1;33m,\u001b[0m \u001b[0mList\u001b[0m\u001b[1;33m[\u001b[0m\u001b[0mstr\u001b[0m\u001b[1;33m]\u001b[0m\u001b[1;33m,\u001b[0m \u001b[0mNoneType\u001b[0m\u001b[1;33m]\u001b[0m \u001b[1;33m=\u001b[0m \u001b[1;32mNone\u001b[0m\u001b[1;33m,\u001b[0m\u001b[1;33m\n",
       "\u001b[0m    \u001b[0mfilter\u001b[0m\u001b[1;33m:\u001b[0m \u001b[0mUnion\u001b[0m\u001b[1;33m[\u001b[0m\u001b[0mdict\u001b[0m\u001b[1;33m,\u001b[0m \u001b[0mNoneType\u001b[0m\u001b[1;33m]\u001b[0m \u001b[1;33m=\u001b[0m \u001b[1;32mNone\u001b[0m\u001b[1;33m,\u001b[0m\u001b[1;33m\n",
       "\u001b[0m    \u001b[0msortby\u001b[0m\u001b[1;33m:\u001b[0m \u001b[0mUnion\u001b[0m\u001b[1;33m[\u001b[0m\u001b[0mList\u001b[0m\u001b[1;33m[\u001b[0m\u001b[0mstr\u001b[0m\u001b[1;33m]\u001b[0m\u001b[1;33m,\u001b[0m \u001b[0mstr\u001b[0m\u001b[1;33m,\u001b[0m \u001b[0mNoneType\u001b[0m\u001b[1;33m]\u001b[0m \u001b[1;33m=\u001b[0m \u001b[1;32mNone\u001b[0m\u001b[1;33m,\u001b[0m\u001b[1;33m\n",
       "\u001b[0m    \u001b[0mfields\u001b[0m\u001b[1;33m:\u001b[0m \u001b[0mUnion\u001b[0m\u001b[1;33m[\u001b[0m\u001b[0mList\u001b[0m\u001b[1;33m[\u001b[0m\u001b[0mstr\u001b[0m\u001b[1;33m]\u001b[0m\u001b[1;33m,\u001b[0m \u001b[0mstr\u001b[0m\u001b[1;33m,\u001b[0m \u001b[0mNoneType\u001b[0m\u001b[1;33m]\u001b[0m \u001b[1;33m=\u001b[0m \u001b[1;32mNone\u001b[0m\u001b[1;33m,\u001b[0m\u001b[1;33m\n",
       "\u001b[0m    \u001b[0mmax_items\u001b[0m\u001b[1;33m:\u001b[0m \u001b[0mUnion\u001b[0m\u001b[1;33m[\u001b[0m\u001b[0mint\u001b[0m\u001b[1;33m,\u001b[0m \u001b[0mNoneType\u001b[0m\u001b[1;33m]\u001b[0m \u001b[1;33m=\u001b[0m \u001b[1;32mNone\u001b[0m\u001b[1;33m,\u001b[0m\u001b[1;33m\n",
       "\u001b[0m    \u001b[0mmethod\u001b[0m\u001b[1;33m:\u001b[0m \u001b[0mUnion\u001b[0m\u001b[1;33m[\u001b[0m\u001b[0mstr\u001b[0m\u001b[1;33m,\u001b[0m \u001b[0mNoneType\u001b[0m\u001b[1;33m]\u001b[0m \u001b[1;33m=\u001b[0m \u001b[1;34m'POST'\u001b[0m\u001b[1;33m,\u001b[0m\u001b[1;33m\n",
       "\u001b[0m    \u001b[0mstac_io\u001b[0m\u001b[1;33m:\u001b[0m \u001b[0mUnion\u001b[0m\u001b[1;33m[\u001b[0m\u001b[0mpystac\u001b[0m\u001b[1;33m.\u001b[0m\u001b[0mstac_io\u001b[0m\u001b[1;33m.\u001b[0m\u001b[0mStacIO\u001b[0m\u001b[1;33m,\u001b[0m \u001b[0mNoneType\u001b[0m\u001b[1;33m]\u001b[0m \u001b[1;33m=\u001b[0m \u001b[1;32mNone\u001b[0m\u001b[1;33m,\u001b[0m\u001b[1;33m\n",
       "\u001b[0m    \u001b[0mclient\u001b[0m\u001b[1;33m:\u001b[0m \u001b[0mUnion\u001b[0m\u001b[1;33m[\u001b[0m\u001b[0mForwardRef\u001b[0m\u001b[1;33m(\u001b[0m\u001b[1;34m'Client'\u001b[0m\u001b[1;33m)\u001b[0m\u001b[1;33m,\u001b[0m \u001b[0mNoneType\u001b[0m\u001b[1;33m]\u001b[0m \u001b[1;33m=\u001b[0m \u001b[1;32mNone\u001b[0m\u001b[1;33m,\u001b[0m\u001b[1;33m\n",
       "\u001b[0m\u001b[1;33m)\u001b[0m\u001b[1;33m\u001b[0m\u001b[1;33m\u001b[0m\u001b[0m\n",
       "\u001b[1;31mDocstring:\u001b[0m     \n",
       "Represents a deferred query to a STAC search endpoint as described in the\n",
       "`STAC API - Item Search spec <https://github.com/radiantearth/stac-api-spec/tree/master/item-search>`__.\n",
       "\n",
       "No request is sent to the API until a function is called to fetch or iterate through the resulting STAC Items,\n",
       " either the :meth:`ItemSearch.item_collections` or :meth:`ItemSearch.items` method is called and iterated over.\n",
       "\n",
       "All \"Parameters\", with the exception of ``max_items``, ``method``, and ``url`` correspond to query parameters\n",
       "described in the `STAC API - Item Search: Query Parameters Table\n",
       "<https://github.com/radiantearth/stac-api-spec/tree/master/item-search#query-parameter-table>`__ docs. Please refer\n",
       "to those docs for details on how these parameters filter search results.\n",
       "\n",
       "Args:\n",
       "    url : The URL to the item-search endpoint\n",
       "    method : The HTTP method to use when making a request to the service. This must be either ``\"GET\"``, ``\"POST\"``, or\n",
       "        ``None``. If ``None``, this will default to ``\"POST\"`` if the ``intersects`` argument is present and ``\"GET\"``\n",
       "        if not. If a ``\"POST\"`` request receives a ``405`` status for the response, it will automatically retry with a\n",
       "        ``\"GET\"`` request for all subsequent requests.\n",
       "    max_items : The maximum number of items to return from the search. *Note that this is not a STAC API - Item Search\n",
       "        parameter and is instead used by the client to limit the total number of returned items*.\n",
       "    limit : The maximum number of items to return *per page*. Defaults to ``None``, which falls back to the limit set\n",
       "        by the service.\n",
       "    bbox: May be a list, tuple, or iterator representing a bounding box of 2D or 3D coordinates. Results will be filtered\n",
       "        to only those intersecting the bounding box.\n",
       "    datetime: Either a single datetime or datetime range used to filter results. You may express a single datetime\n",
       "        using a :class:`datetime.datetime` instance, a `RFC 3339-compliant <https://tools.ietf.org/html/rfc3339>`__\n",
       "        timestamp, or a simple date string (see below). Instances of :class:`datetime.datetime` may be either\n",
       "        timezone aware or unaware. Timezone aware instances will be converted to a UTC timestamp before being passed\n",
       "        to the endpoint. Timezone unaware instances are assumed to represent UTC timestamps. You may represent a\n",
       "        datetime range using a ``\"/\"`` separated string as described in the spec, or a list, tuple, or iterator\n",
       "        of 2 timestamps or datetime instances. For open-ended ranges, use either ``\"..\"`` (``'2020-01-01:00:00:00Z/..'``,\n",
       "        ``['2020-01-01:00:00:00Z', '..']``) or a value of ``None`` (``['2020-01-01:00:00:00Z', None]``).\n",
       "\n",
       "        If using a simple date string, the datetime can be specified in ``YYYY-mm-dd`` format, optionally truncating\n",
       "        to ``YYYY-mm`` or just ``YYYY``. Simple date strings will be expanded to include the entire time period, for\n",
       "        example:\n",
       "\n",
       "        - ``2017`` expands to ``2017-01-01T00:00:00Z/2017-12-31T23:59:59Z``\n",
       "        - ``2017-06`` expands to ``2017-06-01T00:00:00Z/2017-06-30T23:59:59Z``\n",
       "        - ``2017-06-10`` expands to ``2017-06-10T00:00:00Z/2017-06-10T23:59:59Z``\n",
       "\n",
       "        If used in a range, the end of the range expands to the end of that day/month/year, for example:\n",
       "\n",
       "        - ``2017/2018`` expands to ``2017-01-01T00:00:00Z/2018-12-31T23:59:59Z``\n",
       "        - ``2017-06/2017-07`` expands to ``2017-06-01T00:00:00Z/2017-07-31T23:59:59Z``\n",
       "        - ``2017-06-10/2017-06-11`` expands to ``2017-06-10T00:00:00Z/2017-06-11T23:59:59Z``\n",
       "    intersects: A GeoJSON-like dictionary or JSON string. Results filtered to only those intersecting the geometry\n",
       "    ids: List of Item ids to return. All other filter parameters that further restrict the number of search results\n",
       "        (except ``limit``) are ignored.\n",
       "    collections: List of one or more Collection IDs or :class:`pystac.Collection` instances. Only Items in one\n",
       "        of the provided Collections will be searched\n",
       "    query: List or JSON of query parameters as per the STAC API `query` extension\n",
       "    filter: JSON of query parameters as per the STAC API `filter` extension\n",
       "    sortby: A single field or list of fields to sort the response by\n",
       "    fields: A list of fields to return in the response. Note this may result in invalid JSON.\n",
       "        Use `get_all_items_as_dict` to avoid errors\n",
       "    max_items: The maximum number of items to get, even if there are more matched items\n",
       "    method: The http method, 'GET' or 'POST'\n",
       "    stac_io: An instance of of StacIO for retrieving results. Normally comes from the Client that returns this ItemSearch\n",
       "    client: An instance of a root Client used to set the root on resulting Items\n",
       "\u001b[1;31mFile:\u001b[0m           c:\\users\\hybam\\.conda\\envs\\eodag2\\lib\\site-packages\\pystac_client\\item_search.py\n",
       "\u001b[1;31mType:\u001b[0m           type\n",
       "\u001b[1;31mSubclasses:\u001b[0m     \n"
      ]
     },
     "metadata": {},
     "output_type": "display_data"
    }
   ],
   "source": [
    "ItemSearch?"
   ]
  },
  {
   "cell_type": "code",
   "execution_count": 22,
   "id": "e529eb4d-d46f-424f-a0f0-9c3ead76a1d2",
   "metadata": {},
   "outputs": [],
   "source": [
    "from downplanet.common import create_geometry\n",
    "import geojson"
   ]
  },
  {
   "cell_type": "code",
   "execution_count": 23,
   "id": "c890a576-d560-4965-8dba-04cd77a09ba2",
   "metadata": {},
   "outputs": [],
   "source": [
    "geom = create_geometry((-20, 20))"
   ]
  },
  {
   "cell_type": "code",
   "execution_count": 24,
   "id": "4c6c33f5-4de7-451b-9cad-8085f842c51d",
   "metadata": {},
   "outputs": [
    {
     "data": {
      "text/plain": [
       "geojson.geometry.Point"
      ]
     },
     "execution_count": 24,
     "metadata": {},
     "output_type": "execute_result"
    }
   ],
   "source": [
    "geojson.geometry.Point"
   ]
  },
  {
   "cell_type": "code",
   "execution_count": 25,
   "id": "12f4171f-231a-4feb-840d-c500be220d69",
   "metadata": {},
   "outputs": [
    {
     "data": {
      "text/plain": [
       "True"
      ]
     },
     "execution_count": 25,
     "metadata": {},
     "output_type": "execute_result"
    }
   ],
   "source": [
    "isinstance(geom, geojson.geometry.Point)"
   ]
  },
  {
   "cell_type": "code",
   "execution_count": 26,
   "id": "27cb29c3-7f42-4fb8-b70a-bbc0a65fddde",
   "metadata": {},
   "outputs": [],
   "source": [
    "aoi = {\n",
    "    \"type\": \"Point\",\n",
    "    \"coordinates\": [-51.4, -23.2]\n",
    "}\n",
    "# time_range = \"2016-01-01/2016-12-31\"\n",
    "time_range = \"2019-06-01/2019-08-01\"\n",
    "\n",
    "search = catalog.search(collections=[\"sentinel-2-l2a\"], \n",
    "                        datetime=time_range, \n",
    "                        intersects=aoi)"
   ]
  },
  {
   "cell_type": "code",
   "execution_count": 27,
   "id": "a8d8f5bc-0fbf-453d-a2c1-df9bb0cfc3e1",
   "metadata": {},
   "outputs": [
    {
     "data": {
      "text/plain": [
       "<pystac_client.item_search.ItemSearch at 0x2a1a4111cd0>"
      ]
     },
     "execution_count": 27,
     "metadata": {},
     "output_type": "execute_result"
    }
   ],
   "source": [
    "search"
   ]
  },
  {
   "cell_type": "code",
   "execution_count": 28,
   "id": "a5eb1801-b2ba-4261-bde3-1fb6951513e6",
   "metadata": {},
   "outputs": [
    {
     "data": {
      "text/plain": [
       "[<Item id=S2B_MSIL2A_20190801T133229_R081_T22KDV_20201004T191823>,\n",
       " <Item id=S2A_MSIL2A_20190727T133231_R081_T22KDV_20201109T151302>,\n",
       " <Item id=S2B_MSIL2A_20190722T133239_R081_T22KDV_20201005T181229>,\n",
       " <Item id=S2A_MSIL2A_20190717T133231_R081_T22KDV_20201106T013532>,\n",
       " <Item id=S2B_MSIL2A_20190712T133239_R081_T22KDV_20201005T130832>,\n",
       " <Item id=S2A_MSIL2A_20190707T133231_R081_T22KDV_20201005T103219>,\n",
       " <Item id=S2B_MSIL2A_20190702T133239_R081_T22KDV_20201005T082330>,\n",
       " <Item id=S2A_MSIL2A_20190627T133231_R081_T22KDV_20201006T065845>,\n",
       " <Item id=S2A_MSIL2A_20190617T133231_R081_T22KDV_20201006T031635>,\n",
       " <Item id=S2B_MSIL2A_20190612T133229_R081_T22KDV_20201006T012518>,\n",
       " <Item id=S2A_MSIL2A_20190607T133231_R081_T22KDV_20201005T231059>,\n",
       " <Item id=S2B_MSIL2A_20190602T133229_R081_T22KDV_20201005T211852>]"
      ]
     },
     "execution_count": 28,
     "metadata": {},
     "output_type": "execute_result"
    }
   ],
   "source": [
    "list(search.get_items())"
   ]
  },
  {
   "cell_type": "code",
   "execution_count": null,
   "id": "470c2561-5ded-4f01-b55f-75dcac0ea6fd",
   "metadata": {},
   "outputs": [],
   "source": []
  },
  {
   "cell_type": "code",
   "execution_count": 29,
   "id": "b0427fb2-b4c5-482b-8000-37eb4e920579",
   "metadata": {},
   "outputs": [
    {
     "name": "stdout",
     "output_type": "stream",
     "text": [
      "S2B_MSIL2A_20190801T133229_R081_T22KDV_20201004T191823: 2019-08-01 13:32:29.024000+00:00\n",
      "S2A_MSIL2A_20190727T133231_R081_T22KDV_20201109T151302: 2019-07-27 13:32:31.024000+00:00\n",
      "S2B_MSIL2A_20190722T133239_R081_T22KDV_20201005T181229: 2019-07-22 13:32:39.024000+00:00\n",
      "S2A_MSIL2A_20190717T133231_R081_T22KDV_20201106T013532: 2019-07-17 13:32:31.024000+00:00\n",
      "S2B_MSIL2A_20190712T133239_R081_T22KDV_20201005T130832: 2019-07-12 13:32:39.024000+00:00\n",
      "S2A_MSIL2A_20190707T133231_R081_T22KDV_20201005T103219: 2019-07-07 13:32:31.024000+00:00\n",
      "S2B_MSIL2A_20190702T133239_R081_T22KDV_20201005T082330: 2019-07-02 13:32:39.024000+00:00\n",
      "S2A_MSIL2A_20190627T133231_R081_T22KDV_20201006T065845: 2019-06-27 13:32:31.024000+00:00\n",
      "S2A_MSIL2A_20190617T133231_R081_T22KDV_20201006T031635: 2019-06-17 13:32:31.024000+00:00\n",
      "S2B_MSIL2A_20190612T133229_R081_T22KDV_20201006T012518: 2019-06-12 13:32:29.024000+00:00\n",
      "S2A_MSIL2A_20190607T133231_R081_T22KDV_20201005T231059: 2019-06-07 13:32:31.024000+00:00\n",
      "S2B_MSIL2A_20190602T133229_R081_T22KDV_20201005T211852: 2019-06-02 13:32:29.024000+00:00\n"
     ]
    }
   ],
   "source": [
    "for item in search.get_items():\n",
    "    print(f\"{item.id}: {item.datetime}\")    "
   ]
  },
  {
   "cell_type": "code",
   "execution_count": 30,
   "id": "b245caed-cce7-4753-9169-2551c05567e3",
   "metadata": {},
   "outputs": [
    {
     "data": {
      "text/plain": [
       "{'datetime': '2019-06-02T13:32:29.024000Z',\n",
       " 'platform': 'Sentinel-2B',\n",
       " 'proj:epsg': 32722,\n",
       " 'instruments': ['msi'],\n",
       " 's2:mgrs_tile': '22KDV',\n",
       " 'constellation': 'Sentinel 2',\n",
       " 's2:granule_id': 'S2B_OPER_MSI_L2A_TL_ESRI_20201005T211854_A011690_T22KDV_N02.12',\n",
       " 'eo:cloud_cover': 92.982229,\n",
       " 's2:datatake_id': 'GS2B_20190602T133229_011690_N02.12',\n",
       " 's2:product_uri': 'S2B_MSIL2A_20190602T133229_N0212_R081_T22KDV_20201005T211852.SAFE',\n",
       " 's2:datastrip_id': 'S2B_OPER_MSI_L2A_DS_ESRI_20201005T211854_S20190602T133232_N02.12',\n",
       " 's2:product_type': 'S2MSI2A',\n",
       " 'sat:orbit_state': 'descending',\n",
       " 's2:datatake_type': 'INS-NOBS',\n",
       " 's2:generation_time': '2020-10-05T21:18:52.421Z',\n",
       " 'sat:relative_orbit': 81,\n",
       " 's2:water_percentage': 0.524484,\n",
       " 's2:mean_solar_zenith': 51.9763112566695,\n",
       " 's2:mean_solar_azimuth': 31.2494456793518,\n",
       " 's2:processing_baseline': '02.12',\n",
       " 's2:snow_ice_percentage': 0.0,\n",
       " 's2:vegetation_percentage': 1.21204,\n",
       " 's2:thin_cirrus_percentage': 0.365178,\n",
       " 's2:cloud_shadow_percentage': 0.071868,\n",
       " 's2:nodata_pixel_percentage': 0.0,\n",
       " 's2:unclassified_percentage': 4.397839,\n",
       " 's2:dark_features_percentage': 0.199339,\n",
       " 's2:not_vegetated_percentage': 0.612201,\n",
       " 's2:degraded_msi_data_percentage': 0.0,\n",
       " 's2:high_proba_clouds_percentage': 76.959181,\n",
       " 's2:reflectance_conversion_factor': 0.973424021375168,\n",
       " 's2:medium_proba_clouds_percentage': 15.65787,\n",
       " 's2:saturated_defective_pixel_percentage': 0.0}"
      ]
     },
     "execution_count": 30,
     "metadata": {},
     "output_type": "execute_result"
    }
   ],
   "source": [
    "item.properties"
   ]
  },
  {
   "cell_type": "code",
   "execution_count": 31,
   "id": "5a56de31-c090-4edd-9d5e-f9a762645c32",
   "metadata": {},
   "outputs": [
    {
     "data": {
      "text/plain": [
       "<Item id=S2B_MSIL2A_20190801T133229_R081_T22KDV_20201004T191823>"
      ]
     },
     "execution_count": 31,
     "metadata": {},
     "output_type": "execute_result"
    }
   ],
   "source": [
    "items = list(search.get_items())\n",
    "selected_item = sorted(items, key=lambda item: item.properties[\"eo:cloud_cover\"])[0]\n",
    "\n",
    "selected_item"
   ]
  },
  {
   "cell_type": "code",
   "execution_count": 32,
   "id": "2876bea0-32cb-4373-9362-04aa6234b821",
   "metadata": {},
   "outputs": [
    {
     "data": {
      "text/plain": [
       "{'AOT': <Asset href=https://sentinel2l2a01.blob.core.windows.net/sentinel2-l2/22/K/DV/2019/06/02/S2B_MSIL2A_20190602T133229_N0212_R081_T22KDV_20201005T211852.SAFE/GRANULE/L2A_T22KDV_A011690_20190602T133232/IMG_DATA/R10m/T22KDV_20190602T133229_AOT_10m.tif>,\n",
       " 'B01': <Asset href=https://sentinel2l2a01.blob.core.windows.net/sentinel2-l2/22/K/DV/2019/06/02/S2B_MSIL2A_20190602T133229_N0212_R081_T22KDV_20201005T211852.SAFE/GRANULE/L2A_T22KDV_A011690_20190602T133232/IMG_DATA/R60m/T22KDV_20190602T133229_B01_60m.tif>,\n",
       " 'B02': <Asset href=https://sentinel2l2a01.blob.core.windows.net/sentinel2-l2/22/K/DV/2019/06/02/S2B_MSIL2A_20190602T133229_N0212_R081_T22KDV_20201005T211852.SAFE/GRANULE/L2A_T22KDV_A011690_20190602T133232/IMG_DATA/R10m/T22KDV_20190602T133229_B02_10m.tif>,\n",
       " 'B03': <Asset href=https://sentinel2l2a01.blob.core.windows.net/sentinel2-l2/22/K/DV/2019/06/02/S2B_MSIL2A_20190602T133229_N0212_R081_T22KDV_20201005T211852.SAFE/GRANULE/L2A_T22KDV_A011690_20190602T133232/IMG_DATA/R10m/T22KDV_20190602T133229_B03_10m.tif>,\n",
       " 'B04': <Asset href=https://sentinel2l2a01.blob.core.windows.net/sentinel2-l2/22/K/DV/2019/06/02/S2B_MSIL2A_20190602T133229_N0212_R081_T22KDV_20201005T211852.SAFE/GRANULE/L2A_T22KDV_A011690_20190602T133232/IMG_DATA/R10m/T22KDV_20190602T133229_B04_10m.tif>,\n",
       " 'B05': <Asset href=https://sentinel2l2a01.blob.core.windows.net/sentinel2-l2/22/K/DV/2019/06/02/S2B_MSIL2A_20190602T133229_N0212_R081_T22KDV_20201005T211852.SAFE/GRANULE/L2A_T22KDV_A011690_20190602T133232/IMG_DATA/R20m/T22KDV_20190602T133229_B05_20m.tif>,\n",
       " 'B06': <Asset href=https://sentinel2l2a01.blob.core.windows.net/sentinel2-l2/22/K/DV/2019/06/02/S2B_MSIL2A_20190602T133229_N0212_R081_T22KDV_20201005T211852.SAFE/GRANULE/L2A_T22KDV_A011690_20190602T133232/IMG_DATA/R20m/T22KDV_20190602T133229_B06_20m.tif>,\n",
       " 'B07': <Asset href=https://sentinel2l2a01.blob.core.windows.net/sentinel2-l2/22/K/DV/2019/06/02/S2B_MSIL2A_20190602T133229_N0212_R081_T22KDV_20201005T211852.SAFE/GRANULE/L2A_T22KDV_A011690_20190602T133232/IMG_DATA/R20m/T22KDV_20190602T133229_B07_20m.tif>,\n",
       " 'B08': <Asset href=https://sentinel2l2a01.blob.core.windows.net/sentinel2-l2/22/K/DV/2019/06/02/S2B_MSIL2A_20190602T133229_N0212_R081_T22KDV_20201005T211852.SAFE/GRANULE/L2A_T22KDV_A011690_20190602T133232/IMG_DATA/R10m/T22KDV_20190602T133229_B08_10m.tif>,\n",
       " 'B09': <Asset href=https://sentinel2l2a01.blob.core.windows.net/sentinel2-l2/22/K/DV/2019/06/02/S2B_MSIL2A_20190602T133229_N0212_R081_T22KDV_20201005T211852.SAFE/GRANULE/L2A_T22KDV_A011690_20190602T133232/IMG_DATA/R60m/T22KDV_20190602T133229_B09_60m.tif>,\n",
       " 'B11': <Asset href=https://sentinel2l2a01.blob.core.windows.net/sentinel2-l2/22/K/DV/2019/06/02/S2B_MSIL2A_20190602T133229_N0212_R081_T22KDV_20201005T211852.SAFE/GRANULE/L2A_T22KDV_A011690_20190602T133232/IMG_DATA/R20m/T22KDV_20190602T133229_B11_20m.tif>,\n",
       " 'B12': <Asset href=https://sentinel2l2a01.blob.core.windows.net/sentinel2-l2/22/K/DV/2019/06/02/S2B_MSIL2A_20190602T133229_N0212_R081_T22KDV_20201005T211852.SAFE/GRANULE/L2A_T22KDV_A011690_20190602T133232/IMG_DATA/R20m/T22KDV_20190602T133229_B12_20m.tif>,\n",
       " 'B8A': <Asset href=https://sentinel2l2a01.blob.core.windows.net/sentinel2-l2/22/K/DV/2019/06/02/S2B_MSIL2A_20190602T133229_N0212_R081_T22KDV_20201005T211852.SAFE/GRANULE/L2A_T22KDV_A011690_20190602T133232/IMG_DATA/R20m/T22KDV_20190602T133229_B8A_20m.tif>,\n",
       " 'SCL': <Asset href=https://sentinel2l2a01.blob.core.windows.net/sentinel2-l2/22/K/DV/2019/06/02/S2B_MSIL2A_20190602T133229_N0212_R081_T22KDV_20201005T211852.SAFE/GRANULE/L2A_T22KDV_A011690_20190602T133232/IMG_DATA/R20m/T22KDV_20190602T133229_SCL_20m.tif>,\n",
       " 'WVP': <Asset href=https://sentinel2l2a01.blob.core.windows.net/sentinel2-l2/22/K/DV/2019/06/02/S2B_MSIL2A_20190602T133229_N0212_R081_T22KDV_20201005T211852.SAFE/GRANULE/L2A_T22KDV_A011690_20190602T133232/IMG_DATA/R10m/T22KDV_20190602T133229_WVP_10m.tif>,\n",
       " 'visual': <Asset href=https://sentinel2l2a01.blob.core.windows.net/sentinel2-l2/22/K/DV/2019/06/02/S2B_MSIL2A_20190602T133229_N0212_R081_T22KDV_20201005T211852.SAFE/GRANULE/L2A_T22KDV_A011690_20190602T133232/IMG_DATA/R10m/T22KDV_20190602T133229_TCI_10m.tif>,\n",
       " 'preview': <Asset href=https://sentinel2l2a01.blob.core.windows.net/sentinel2-l2/22/K/DV/2019/06/02/S2B_MSIL2A_20190602T133229_N0212_R081_T22KDV_20201005T211852.SAFE/GRANULE/L2A_T22KDV_A011690_20190602T133232/QI_DATA/T22KDV_20190602T133229_PVI.tif>,\n",
       " 'safe-manifest': <Asset href=https://sentinel2l2a01.blob.core.windows.net/sentinel2-l2/22/K/DV/2019/06/02/S2B_MSIL2A_20190602T133229_N0212_R081_T22KDV_20201005T211852.SAFE/manifest.safe>,\n",
       " 'granule-metadata': <Asset href=https://sentinel2l2a01.blob.core.windows.net/sentinel2-l2/22/K/DV/2019/06/02/S2B_MSIL2A_20190602T133229_N0212_R081_T22KDV_20201005T211852.SAFE/GRANULE/L2A_T22KDV_A011690_20190602T133232/MTD_TL.xml>,\n",
       " 'inspire-metadata': <Asset href=https://sentinel2l2a01.blob.core.windows.net/sentinel2-l2/22/K/DV/2019/06/02/S2B_MSIL2A_20190602T133229_N0212_R081_T22KDV_20201005T211852.SAFE/INSPIRE.xml>,\n",
       " 'product-metadata': <Asset href=https://sentinel2l2a01.blob.core.windows.net/sentinel2-l2/22/K/DV/2019/06/02/S2B_MSIL2A_20190602T133229_N0212_R081_T22KDV_20201005T211852.SAFE/MTD_MSIL2A.xml>,\n",
       " 'datastrip-metadata': <Asset href=https://sentinel2l2a01.blob.core.windows.net/sentinel2-l2/22/K/DV/2019/06/02/S2B_MSIL2A_20190602T133229_N0212_R081_T22KDV_20201005T211852.SAFE/DATASTRIP/DS_ESRI_20201005T211854_S20190602T133232/MTD_DS.xml>,\n",
       " 'tilejson': <Asset href=https://planetarycomputer.microsoft.com/api/data/v1/item/tilejson.json?collection=sentinel-2-l2a&items=S2B_MSIL2A_20190602T133229_R081_T22KDV_20201005T211852&assets=visual&bidx=1,2,3&nodata=0>,\n",
       " 'rendered_preview': <Asset href=https://planetarycomputer.microsoft.com/api/data/v1/item/preview.png?collection=sentinel-2-l2a&items=S2B_MSIL2A_20190602T133229_R081_T22KDV_20201005T211852&assets=visual&bidx=1,2,3&nodata=0>}"
      ]
     },
     "execution_count": 32,
     "metadata": {},
     "output_type": "execute_result"
    }
   ],
   "source": [
    "item.assets"
   ]
  },
  {
   "cell_type": "code",
   "execution_count": 33,
   "id": "6089983e-39d6-4b73-85bb-f0d41910ba33",
   "metadata": {},
   "outputs": [
    {
     "name": "stdout",
     "output_type": "stream",
     "text": [
      "AOT                       - Aerosol optical thickness (AOT)\n",
      "B01                       - Band 1 - Coastal aerosol - 60m\n",
      "B02                       - Band 2 - Blue - 10m\n",
      "B03                       - Band 3 - Green - 10m\n",
      "B04                       - Band 4 - Red - 10m\n",
      "B05                       - Band 5 - Vegetation red edge 1 - 20m\n",
      "B06                       - Band 6 - Vegetation red edge 2 - 20m\n",
      "B07                       - Band 7 - Vegetation red edge 3 - 20m\n",
      "B08                       - Band 8 - NIR - 10m\n",
      "B09                       - Band 9 - Water vapor - 60m\n",
      "B11                       - Band 11 - SWIR (1.6) - 20m\n",
      "B12                       - Band 12 - SWIR (2.2) - 20m\n",
      "B8A                       - Band 8A - Vegetation red edge 4 - 20m\n",
      "SCL                       - Scene classfication map (SCL)\n",
      "WVP                       - Water vapour (WVP)\n",
      "visual                    - True color image\n",
      "preview                   - Thumbnail\n",
      "safe-manifest             - SAFE manifest\n",
      "granule-metadata          - Granule metadata\n",
      "inspire-metadata          - INSPIRE metadata\n",
      "product-metadata          - Product metadata\n",
      "datastrip-metadata        - Datastrip metadata\n",
      "tilejson                  - TileJSON with default rendering\n",
      "rendered_preview          - Rendered preview\n"
     ]
    }
   ],
   "source": [
    "for asset_key, asset in selected_item.assets.items():\n",
    "    print(f\"{asset_key:<25} - {asset.title}\")"
   ]
  },
  {
   "cell_type": "code",
   "execution_count": 34,
   "id": "e547379e-eb2d-4be9-9965-b1f72a5e109d",
   "metadata": {},
   "outputs": [],
   "source": [
    "import planetary_computer as pc\n",
    "\n",
    "signed_href = pc.sign(selected_item.assets['rendered_preview'].href)"
   ]
  },
  {
   "cell_type": "code",
   "execution_count": 38,
   "id": "18bd6092-3a99-4638-b525-37187cb9d1e4",
   "metadata": {},
   "outputs": [
    {
     "data": {
      "text/plain": [
       "'https://sentinel2l2a01.blob.core.windows.net/sentinel2-l2/22/K/DV/2019/08/01/S2B_MSIL2A_20190801T133229_N0212_R081_T22KDV_20201004T191823.SAFE/GRANULE/L2A_T22KDV_A012548_20190801T133232/IMG_DATA/R10m/T22KDV_20190801T133229_B03_10m.tif'"
      ]
     },
     "execution_count": 38,
     "metadata": {},
     "output_type": "execute_result"
    }
   ],
   "source": [
    "href = selected_item.assets['B03'].href\n",
    "href"
   ]
  },
  {
   "cell_type": "code",
   "execution_count": 39,
   "id": "f4ee3d2b-9987-452b-86a5-d233a2546805",
   "metadata": {},
   "outputs": [
    {
     "data": {
      "text/plain": [
       "'https://sentinel2l2a01.blob.core.windows.net/sentinel2-l2/22/K/DV/2019/08/01/S2B_MSIL2A_20190801T133229_N0212_R081_T22KDV_20201004T191823.SAFE/GRANULE/L2A_T22KDV_A012548_20190801T133232/IMG_DATA/R10m/T22KDV_20190801T133229_B03_10m.tif?st=2021-11-15T13%3A20%3A05Z&se=2021-11-16T14%3A05%3A05Z&sp=rl&sv=2020-06-12&sr=c&skoid=c85c15d6-d1ae-42d4-af60-e2ca0f81359b&sktid=72f988bf-86f1-41af-91ab-2d7cd011db47&skt=2021-11-16T12%3A20%3A05Z&ske=2021-11-17T13%3A20%3A05Z&sks=b&skv=2020-06-12&sig=z7mNqkLLETbB/4xLtDdp0lZuYJKOD0WTA%2BQShce9iaA%3D'"
      ]
     },
     "execution_count": 39,
     "metadata": {},
     "output_type": "execute_result"
    }
   ],
   "source": [
    "signed_href = pc.sign(href)\n",
    "signed_href"
   ]
  },
  {
   "cell_type": "code",
   "execution_count": 37,
   "id": "ccf167e8-2778-4571-bb5b-390ee322f476",
   "metadata": {},
   "outputs": [
    {
     "data": {
      "text/plain": [
       "'https://sentinel2l2a01.blob.core.windows.net/sentinel2-l2/22/K/DV/2019/08/01/S2B_MSIL2A_20190801T133229_N0212_R081_T22KDV_20201004T191823.SAFE/GRANULE/L2A_T22KDV_A012548_20190801T133232/IMG_DATA/R10m/T22KDV_20190801T133229_B02_10m.tif?st=2021-11-15T13%3A20%3A05Z&se=2021-11-16T14%3A05%3A05Z&sp=rl&sv=2020-06-12&sr=c&skoid=c85c15d6-d1ae-42d4-af60-e2ca0f81359b&sktid=72f988bf-86f1-41af-91ab-2d7cd011db47&skt=2021-11-16T12%3A20%3A05Z&ske=2021-11-17T13%3A20%3A05Z&sks=b&skv=2020-06-12&sig=z7mNqkLLETbB/4xLtDdp0lZuYJKOD0WTA%2BQShce9iaA%3D'"
      ]
     },
     "execution_count": 37,
     "metadata": {},
     "output_type": "execute_result"
    }
   ],
   "source": [
    "signed_href = pc.sign(href)\n",
    "signed_href"
   ]
  },
  {
   "cell_type": "code",
   "execution_count": 19,
   "id": "2caaaa2b-af05-4284-b49a-aff4e4d4c5e4",
   "metadata": {},
   "outputs": [
    {
     "data": {
      "text/plain": [
       "<Asset href=https://planetarycomputer.microsoft.com/api/data/v1/item/preview.png?collection=sentinel-2-l2a&items=S2B_MSIL2A_20190801T133229_R081_T22KDV_20201004T191823&assets=visual&bidx=1,2,3&nodata=0>"
      ]
     },
     "execution_count": 19,
     "metadata": {},
     "output_type": "execute_result"
    }
   ],
   "source": [
    "selected_item.assets['rendered_preview']"
   ]
  },
  {
   "cell_type": "code",
   "execution_count": 76,
   "id": "70d08623-7359-4d57-8367-4734275dec7d",
   "metadata": {},
   "outputs": [
    {
     "data": {
      "text/plain": [
       "<Response [200]>"
      ]
     },
     "execution_count": 76,
     "metadata": {},
     "output_type": "execute_result"
    }
   ],
   "source": [
    "import requests\n",
    "\n",
    "requests.get(selected_item.assets['rendered_preview'].href)"
   ]
  },
  {
   "cell_type": "code",
   "execution_count": 77,
   "id": "01e58bb6-239c-45c0-a93f-f8609e960dd1",
   "metadata": {},
   "outputs": [],
   "source": [
    "r = requests.get(selected_item.assets['rendered_preview'].href)"
   ]
  },
  {
   "cell_type": "code",
   "execution_count": 78,
   "id": "bdbc5c7f-8b28-4ec3-8dd1-ca4ca9fc93be",
   "metadata": {},
   "outputs": [
    {
     "data": {
      "text/plain": [
       "True"
      ]
     },
     "execution_count": 78,
     "metadata": {},
     "output_type": "execute_result"
    }
   ],
   "source": [
    "r.ok"
   ]
  },
  {
   "cell_type": "code",
   "execution_count": null,
   "id": "d75dd3e6-7be0-4942-a5c4-a6798b4636a3",
   "metadata": {},
   "outputs": [],
   "source": []
  },
  {
   "cell_type": "code",
   "execution_count": 23,
   "id": "2b035b51-ada0-45ab-800d-4961647b97f4",
   "metadata": {},
   "outputs": [
    {
     "data": {
      "text/plain": [
       "<Response [200]>"
      ]
     },
     "execution_count": 23,
     "metadata": {},
     "output_type": "execute_result"
    }
   ],
   "source": [
    "requests.get(selected_item.assets['rendered_preview'].href)"
   ]
  },
  {
   "cell_type": "code",
   "execution_count": 24,
   "id": "364451a6-a18b-4441-919b-14651ec2fd97",
   "metadata": {},
   "outputs": [
    {
     "data": {
      "text/plain": [
       "'https://planetarycomputer.microsoft.com/api/data/v1/item/preview.png?collection=sentinel-2-l2a&items=S2B_MSIL2A_20190801T133229_R081_T22KDV_20201004T191823&assets=visual&bidx=1,2,3&nodata=0'"
      ]
     },
     "execution_count": 24,
     "metadata": {},
     "output_type": "execute_result"
    }
   ],
   "source": [
    "signed_href"
   ]
  },
  {
   "cell_type": "code",
   "execution_count": 25,
   "id": "fe369104-8e7a-460e-84f6-fe5ac3750297",
   "metadata": {},
   "outputs": [
    {
     "data": {
      "text/plain": [
       "\u001b[1;31mSignature:\u001b[0m \u001b[0mrequests\u001b[0m\u001b[1;33m.\u001b[0m\u001b[0mget\u001b[0m\u001b[1;33m(\u001b[0m\u001b[0murl\u001b[0m\u001b[1;33m,\u001b[0m \u001b[0mparams\u001b[0m\u001b[1;33m=\u001b[0m\u001b[1;32mNone\u001b[0m\u001b[1;33m,\u001b[0m \u001b[1;33m**\u001b[0m\u001b[0mkwargs\u001b[0m\u001b[1;33m)\u001b[0m\u001b[1;33m\u001b[0m\u001b[1;33m\u001b[0m\u001b[0m\n",
       "\u001b[1;31mDocstring:\u001b[0m\n",
       "Sends a GET request.\n",
       "\n",
       ":param url: URL for the new :class:`Request` object.\n",
       ":param params: (optional) Dictionary, list of tuples or bytes to send\n",
       "    in the query string for the :class:`Request`.\n",
       ":param \\*\\*kwargs: Optional arguments that ``request`` takes.\n",
       ":return: :class:`Response <Response>` object\n",
       ":rtype: requests.Response\n",
       "\u001b[1;31mFile:\u001b[0m      d:\\programs\\miniconda3\\envs\\planetary\\lib\\site-packages\\requests\\api.py\n",
       "\u001b[1;31mType:\u001b[0m      function\n"
      ]
     },
     "metadata": {},
     "output_type": "display_data"
    }
   ],
   "source": [
    "requests.get?"
   ]
  },
  {
   "cell_type": "code",
   "execution_count": 26,
   "id": "917e6e4a-aa44-435b-8780-db5721a9426d",
   "metadata": {},
   "outputs": [],
   "source": [
    "r = requests.get(selected_item.assets['rendered_preview'].href)"
   ]
  },
  {
   "cell_type": "code",
   "execution_count": 36,
   "id": "c53eeadb-e43f-43bb-9a80-777b1217f656",
   "metadata": {},
   "outputs": [
    {
     "data": {
      "text/plain": [
       "\u001b[1;31mInit signature:\u001b[0m \u001b[0mrequests\u001b[0m\u001b[1;33m.\u001b[0m\u001b[0mSession\u001b[0m\u001b[1;33m(\u001b[0m\u001b[1;33m)\u001b[0m\u001b[1;33m\u001b[0m\u001b[1;33m\u001b[0m\u001b[0m\n",
       "\u001b[1;31mDocstring:\u001b[0m     \n",
       "A Requests session.\n",
       "\n",
       "Provides cookie persistence, connection-pooling, and configuration.\n",
       "\n",
       "Basic Usage::\n",
       "\n",
       "  >>> import requests\n",
       "  >>> s = requests.Session()\n",
       "  >>> s.get('https://httpbin.org/get')\n",
       "  <Response [200]>\n",
       "\n",
       "Or as a context manager::\n",
       "\n",
       "  >>> with requests.Session() as s:\n",
       "  ...     s.get('https://httpbin.org/get')\n",
       "  <Response [200]>\n",
       "\u001b[1;31mFile:\u001b[0m           d:\\programs\\miniconda3\\envs\\planetary\\lib\\site-packages\\requests\\sessions.py\n",
       "\u001b[1;31mType:\u001b[0m           type\n",
       "\u001b[1;31mSubclasses:\u001b[0m     \n"
      ]
     },
     "metadata": {},
     "output_type": "display_data"
    }
   ],
   "source": [
    "requests.Session?"
   ]
  },
  {
   "cell_type": "code",
   "execution_count": 38,
   "id": "3e88606e-786f-4c44-a5e1-26051a9f8b3c",
   "metadata": {},
   "outputs": [],
   "source": [
    "import rasterio as rio"
   ]
  },
  {
   "cell_type": "code",
   "execution_count": 42,
   "id": "0f6045c4-f5e4-4a55-abc8-4e60a22ddcdb",
   "metadata": {},
   "outputs": [],
   "source": [
    "ds = rio.open(href)"
   ]
  },
  {
   "cell_type": "code",
   "execution_count": 43,
   "id": "807b4840-a913-42f3-9fd5-6c6194c2be11",
   "metadata": {},
   "outputs": [
    {
     "data": {
      "text/plain": [
       "<open DatasetReader name='https://sentinel2l2a01.blob.core.windows.net/sentinel2-l2/22/K/DV/2019/08/01/S2B_MSIL2A_20190801T133229_N0212_R081_T22KDV_20201004T191823.SAFE/GRANULE/L2A_T22KDV_A012548_20190801T133232/IMG_DATA/R10m/T22KDV_20190801T133229_B02_10m.tif?st=2021-11-14T15%3A38%3A40Z&se=2021-11-15T16%3A23%3A40Z&sp=rl&sv=2020-06-12&sr=c&skoid=c85c15d6-d1ae-42d4-af60-e2ca0f81359b&sktid=72f988bf-86f1-41af-91ab-2d7cd011db47&skt=2021-11-15T14%3A38%3A40Z&ske=2021-11-16T15%3A38%3A40Z&sks=b&skv=2020-06-12&sig=omAHqbGBvpIRQF9hp9fhLn5SYDNQ845TQpYsOl%2B3Gqc%3D' mode='r'>"
      ]
     },
     "execution_count": 43,
     "metadata": {},
     "output_type": "execute_result"
    }
   ],
   "source": [
    "ds"
   ]
  },
  {
   "cell_type": "code",
   "execution_count": 44,
   "id": "de55af79-e4ee-4380-9acb-c72df8da53b8",
   "metadata": {},
   "outputs": [],
   "source": [
    "x = ds.read()"
   ]
  },
  {
   "cell_type": "code",
   "execution_count": 43,
   "id": "e5fde238-c3b3-4337-9d18-aef5e8a6f5df",
   "metadata": {},
   "outputs": [
    {
     "data": {
      "text/plain": [
       "'S2B_MSIL2A_20211029T133229_R081_T22KDV_20211030T024528'"
      ]
     },
     "execution_count": 43,
     "metadata": {},
     "output_type": "execute_result"
    }
   ],
   "source": [
    "item.id"
   ]
  },
  {
   "cell_type": "code",
   "execution_count": 42,
   "id": "d0649b41-7298-4974-82f3-007deadb1fe2",
   "metadata": {},
   "outputs": [
    {
     "data": {
      "text/plain": [
       "{'datetime': '2021-10-29T13:32:29.024000Z',\n",
       " 'platform': 'Sentinel-2B',\n",
       " 'proj:epsg': 32722,\n",
       " 'instruments': ['msi'],\n",
       " 's2:mgrs_tile': '22KDV',\n",
       " 'constellation': 'Sentinel 2',\n",
       " 's2:granule_id': 'S2B_OPER_MSI_L2A_TL_ESRI_20211030T024529_A024274_T22KDV_N03.00',\n",
       " 'eo:cloud_cover': 0.051178,\n",
       " 's2:datatake_id': 'GS2B_20211029T133229_024274_N03.00',\n",
       " 's2:product_uri': 'S2B_MSIL2A_20211029T133229_N0300_R081_T22KDV_20211030T024528.SAFE',\n",
       " 's2:datastrip_id': 'S2B_OPER_MSI_L2A_DS_ESRI_20211030T024529_S20211029T133225_N03.00',\n",
       " 's2:product_type': 'S2MSI2A',\n",
       " 'sat:orbit_state': 'descending',\n",
       " 's2:datatake_type': 'INS-NOBS',\n",
       " 's2:generation_time': '2021-10-30T02:45:28.594750Z',\n",
       " 'sat:relative_orbit': 81,\n",
       " 's2:water_percentage': 3.731365,\n",
       " 's2:mean_solar_zenith': 23.4417422681171,\n",
       " 's2:mean_solar_azimuth': 70.1506661760446,\n",
       " 's2:processing_baseline': '03.00',\n",
       " 's2:snow_ice_percentage': 0.0,\n",
       " 's2:vegetation_percentage': 39.393744,\n",
       " 's2:thin_cirrus_percentage': 0.004034,\n",
       " 's2:cloud_shadow_percentage': 0.001593,\n",
       " 's2:nodata_pixel_percentage': 1.3e-05,\n",
       " 's2:unclassified_percentage': 0.226565,\n",
       " 's2:dark_features_percentage': 0.139817,\n",
       " 's2:not_vegetated_percentage': 56.455737,\n",
       " 's2:degraded_msi_data_percentage': 0.0,\n",
       " 's2:high_proba_clouds_percentage': 0.027044,\n",
       " 's2:reflectance_conversion_factor': 1.01230429835677,\n",
       " 's2:medium_proba_clouds_percentage': 0.020099,\n",
       " 's2:saturated_defective_pixel_percentage': 0.0}"
      ]
     },
     "execution_count": 42,
     "metadata": {},
     "output_type": "execute_result"
    }
   ],
   "source": [
    "item.properties"
   ]
  },
  {
   "cell_type": "code",
   "execution_count": 40,
   "id": "e1619c48-8386-4453-a25a-dfcb89708b35",
   "metadata": {},
   "outputs": [
    {
     "ename": "NameError",
     "evalue": "name 'href' is not defined",
     "output_type": "error",
     "traceback": [
      "\u001b[1;31m---------------------------------------------------------------------------\u001b[0m",
      "\u001b[1;31mNameError\u001b[0m                                 Traceback (most recent call last)",
      "\u001b[1;32m~\\AppData\\Local\\Temp/ipykernel_13360/1398290047.py\u001b[0m in \u001b[0;36m<module>\u001b[1;34m\u001b[0m\n\u001b[1;32m----> 1\u001b[1;33m \u001b[0mhref\u001b[0m\u001b[1;33m\u001b[0m\u001b[1;33m\u001b[0m\u001b[0m\n\u001b[0m",
      "\u001b[1;31mNameError\u001b[0m: name 'href' is not defined"
     ]
    }
   ],
   "source": [
    "href"
   ]
  },
  {
   "cell_type": "code",
   "execution_count": 63,
   "id": "5537ade9-1cea-4b93-b4af-1d06776820a8",
   "metadata": {},
   "outputs": [],
   "source": [
    "r = requests.get(href, stream=True)"
   ]
  },
  {
   "cell_type": "code",
   "execution_count": 49,
   "id": "e136b42f-8006-4b71-82b0-c2a5ba4a7088",
   "metadata": {},
   "outputs": [
    {
     "data": {
      "text/plain": [
       "KeysView({'Content-Length': '216865440', 'Content-Type': 'image/tiff', 'Last-Modified': 'Sun, 04 Oct 2020 20:23:13 GMT', 'Accept-Ranges': 'bytes', 'ETag': '\"0x8D868A3519AE5A9\"', 'Server': 'Windows-Azure-Blob/1.0 Microsoft-HTTPAPI/2.0', 'x-ms-request-id': 'b1f18fef-101e-0052-2037-da9646000000', 'x-ms-version': '2020-06-12', 'x-ms-creation-time': 'Sun, 04 Oct 2020 20:23:13 GMT', 'x-ms-lease-status': 'unlocked', 'x-ms-lease-state': 'available', 'x-ms-blob-type': 'BlockBlob', 'x-ms-server-encrypted': 'true', 'Date': 'Mon, 15 Nov 2021 15:42:57 GMT'})"
      ]
     },
     "execution_count": 49,
     "metadata": {},
     "output_type": "execute_result"
    }
   ],
   "source": [
    "r.headers.keys()"
   ]
  },
  {
   "cell_type": "code",
   "execution_count": 53,
   "id": "e68342d1-db5d-47f4-a557-b5d25175a9d2",
   "metadata": {},
   "outputs": [
    {
     "data": {
      "text/plain": [
       "\u001b[1;31mSignature:\u001b[0m \u001b[0mr\u001b[0m\u001b[1;33m.\u001b[0m\u001b[0miter_content\u001b[0m\u001b[1;33m(\u001b[0m\u001b[0mchunk_size\u001b[0m\u001b[1;33m=\u001b[0m\u001b[1;36m1\u001b[0m\u001b[1;33m,\u001b[0m \u001b[0mdecode_unicode\u001b[0m\u001b[1;33m=\u001b[0m\u001b[1;32mFalse\u001b[0m\u001b[1;33m)\u001b[0m\u001b[1;33m\u001b[0m\u001b[1;33m\u001b[0m\u001b[0m\n",
       "\u001b[1;31mDocstring:\u001b[0m\n",
       "Iterates over the response data.  When stream=True is set on the\n",
       "request, this avoids reading the content at once into memory for\n",
       "large responses.  The chunk size is the number of bytes it should\n",
       "read into memory.  This is not necessarily the length of each item\n",
       "returned as decoding can take place.\n",
       "\n",
       "chunk_size must be of type int or None. A value of None will\n",
       "function differently depending on the value of `stream`.\n",
       "stream=True will read data as it arrives in whatever size the\n",
       "chunks are received. If stream=False, data is returned as\n",
       "a single chunk.\n",
       "\n",
       "If decode_unicode is True, content will be decoded using the best\n",
       "available encoding based on the response.\n",
       "\u001b[1;31mFile:\u001b[0m      d:\\programs\\miniconda3\\envs\\planetary\\lib\\site-packages\\requests\\models.py\n",
       "\u001b[1;31mType:\u001b[0m      method\n"
      ]
     },
     "metadata": {},
     "output_type": "display_data"
    }
   ],
   "source": [
    "r.iter_content?"
   ]
  },
  {
   "cell_type": "code",
   "execution_count": 51,
   "id": "1323fd93-6003-4466-8621-34d7c4bd379d",
   "metadata": {},
   "outputs": [
    {
     "data": {
      "text/plain": [
       "\u001b[1;31mSignature:\u001b[0m \u001b[0mrequests\u001b[0m\u001b[1;33m.\u001b[0m\u001b[0mget\u001b[0m\u001b[1;33m(\u001b[0m\u001b[0murl\u001b[0m\u001b[1;33m,\u001b[0m \u001b[0mparams\u001b[0m\u001b[1;33m=\u001b[0m\u001b[1;32mNone\u001b[0m\u001b[1;33m,\u001b[0m \u001b[1;33m**\u001b[0m\u001b[0mkwargs\u001b[0m\u001b[1;33m)\u001b[0m\u001b[1;33m\u001b[0m\u001b[1;33m\u001b[0m\u001b[0m\n",
       "\u001b[1;31mDocstring:\u001b[0m\n",
       "Sends a GET request.\n",
       "\n",
       ":param url: URL for the new :class:`Request` object.\n",
       ":param params: (optional) Dictionary, list of tuples or bytes to send\n",
       "    in the query string for the :class:`Request`.\n",
       ":param \\*\\*kwargs: Optional arguments that ``request`` takes.\n",
       ":return: :class:`Response <Response>` object\n",
       ":rtype: requests.Response\n",
       "\u001b[1;31mFile:\u001b[0m      d:\\programs\\miniconda3\\envs\\planetary\\lib\\site-packages\\requests\\api.py\n",
       "\u001b[1;31mType:\u001b[0m      function\n"
      ]
     },
     "metadata": {},
     "output_type": "display_data"
    }
   ],
   "source": [
    "requests.get?"
   ]
  },
  {
   "cell_type": "code",
   "execution_count": 61,
   "id": "3d3e980a-fe6e-41b5-82a5-e40ee2afaf1a",
   "metadata": {},
   "outputs": [
    {
     "data": {
      "text/plain": [
       "<generator object iter_slices at 0x00000230004DFE40>"
      ]
     },
     "execution_count": 61,
     "metadata": {},
     "output_type": "execute_result"
    }
   ],
   "source": [
    "r.iter_content(chunk_size=1024)"
   ]
  },
  {
   "cell_type": "code",
   "execution_count": 55,
   "id": "08bf17ce-214e-45ba-9ba3-289f63a0f2f8",
   "metadata": {},
   "outputs": [],
   "source": [
    "from tqdm import tqdm"
   ]
  },
  {
   "cell_type": "code",
   "execution_count": 64,
   "id": "74ffe811-3933-4f27-8d13-2453c0d5435a",
   "metadata": {},
   "outputs": [
    {
     "name": "stderr",
     "output_type": "stream",
     "text": [
      "211783it [00:58, 3599.17it/s]\n"
     ]
    }
   ],
   "source": [
    "for i in tqdm(r.iter_content(chunk_size=1024)):\n",
    "    pass"
   ]
  },
  {
   "cell_type": "code",
   "execution_count": 59,
   "id": "705923d1-5de0-477d-b853-bcf20e11f5c5",
   "metadata": {},
   "outputs": [
    {
     "name": "stderr",
     "output_type": "stream",
     "text": [
      "100%|████████████████████████████████████████████████████████████████████████████████████| 4/4 [00:01<00:00,  3.88it/s]\n"
     ]
    }
   ],
   "source": [
    "from time import sleep\n",
    "\n",
    "text = \"\"\n",
    "for char in tqdm([\"a\", \"b\", \"c\", \"d\"]):\n",
    "    sleep(0.25)\n",
    "    text = text + char"
   ]
  },
  {
   "cell_type": "code",
   "execution_count": 66,
   "id": "61de473f-f244-48ca-b599-fbfdc40f9d15",
   "metadata": {},
   "outputs": [
    {
     "name": "stderr",
     "output_type": "stream",
     "text": [
      "100%|█████████████████████████████████████████████████████████████████▉| 211783/211783.65625 [00:54<00:00, 3909.84kb/s]\n"
     ]
    }
   ],
   "source": [
    "r = requests.get(href, stream=True)\n",
    "\n",
    "path = 'd:/temp/b02.tif'\n",
    "\n",
    "with open(path, 'wb') as f:\n",
    "    total_length =  int(r.headers.get('content-length'))\n",
    "    \n",
    "    for chunk in tqdm(r.iter_content(chunk_size=1024), total=(total_length/1024) + 1, unit='kb'): \n",
    "        if chunk:\n",
    "            f.write(chunk)\n",
    "            f.flush()"
   ]
  },
  {
   "cell_type": "code",
   "execution_count": 67,
   "id": "7d590778-870e-467c-968c-86a65f460f07",
   "metadata": {},
   "outputs": [
    {
     "data": {
      "text/plain": [
       "(1, 10980, 10980)"
      ]
     },
     "execution_count": 67,
     "metadata": {},
     "output_type": "execute_result"
    }
   ],
   "source": [
    "ds = rio.open(path)\n",
    "b02 = ds.read()\n",
    "b02.shape"
   ]
  },
  {
   "cell_type": "code",
   "execution_count": 68,
   "id": "a146fe92-0d8b-4226-bd24-b642be23ce43",
   "metadata": {},
   "outputs": [
    {
     "data": {
      "text/plain": [
       "{'Content-Length': '216865440', 'Content-Type': 'image/tiff', 'Last-Modified': 'Sun, 04 Oct 2020 20:23:13 GMT', 'Accept-Ranges': 'bytes', 'ETag': '\"0x8D868A3519AE5A9\"', 'Server': 'Windows-Azure-Blob/1.0 Microsoft-HTTPAPI/2.0', 'x-ms-request-id': '72d203bd-501e-0088-323a-da0fa7000000', 'x-ms-version': '2020-06-12', 'x-ms-creation-time': 'Sun, 04 Oct 2020 20:23:13 GMT', 'x-ms-lease-status': 'unlocked', 'x-ms-lease-state': 'available', 'x-ms-blob-type': 'BlockBlob', 'x-ms-server-encrypted': 'true', 'Date': 'Mon, 15 Nov 2021 16:02:40 GMT'}"
      ]
     },
     "execution_count": 68,
     "metadata": {},
     "output_type": "execute_result"
    }
   ],
   "source": [
    "r.headers"
   ]
  },
  {
   "cell_type": "code",
   "execution_count": 70,
   "id": "f39e9c64-8b71-4951-8410-918a3e598101",
   "metadata": {},
   "outputs": [
    {
     "data": {
      "text/plain": [
       "'https://sentinel2l2a01.blob.core.windows.net/sentinel2-l2/22/K/DV/2019/08/01/S2B_MSIL2A_20190801T133229_N0212_R081_T22KDV_20201004T191823.SAFE/GRANULE/L2A_T22KDV_A012548_20190801T133232/IMG_DATA/R10m/T22KDV_20190801T133229_B02_10m.tif?st=2021-11-14T15%3A38%3A40Z&se=2021-11-15T16%3A23%3A40Z&sp=rl&sv=2020-06-12&sr=c&skoid=c85c15d6-d1ae-42d4-af60-e2ca0f81359b&sktid=72f988bf-86f1-41af-91ab-2d7cd011db47&skt=2021-11-15T14%3A38%3A40Z&ske=2021-11-16T15%3A38%3A40Z&sks=b&skv=2020-06-12&sig=omAHqbGBvpIRQF9hp9fhLn5SYDNQ845TQpYsOl%2B3Gqc%3D'"
      ]
     },
     "execution_count": 70,
     "metadata": {},
     "output_type": "execute_result"
    }
   ],
   "source": [
    "r.url"
   ]
  },
  {
   "cell_type": "code",
   "execution_count": 76,
   "id": "9e8ab8b2-79e4-4586-853a-c0484340dee2",
   "metadata": {},
   "outputs": [],
   "source": [
    "from urllib.parse import urlparse\n",
    "from pathlib import Path"
   ]
  },
  {
   "cell_type": "code",
   "execution_count": 74,
   "id": "4d168e58-cbb4-40b3-aded-d3914d2963c7",
   "metadata": {},
   "outputs": [],
   "source": [
    "parsed = urlparse(r.url)"
   ]
  },
  {
   "cell_type": "code",
   "execution_count": 77,
   "id": "3673a1b0-09bc-4735-8b17-111671b05a7f",
   "metadata": {},
   "outputs": [
    {
     "data": {
      "text/plain": [
       "'T22KDV_20190801T133229_B02_10m.tif'"
      ]
     },
     "execution_count": 77,
     "metadata": {},
     "output_type": "execute_result"
    }
   ],
   "source": [
    "Path(parsed.path).name"
   ]
  },
  {
   "cell_type": "code",
   "execution_count": null,
   "id": "65e99ac1-c99e-4e3d-9835-ec12bdcaf130",
   "metadata": {},
   "outputs": [],
   "source": []
  },
  {
   "cell_type": "code",
   "execution_count": null,
   "id": "2be367a9-7aaf-4e13-b698-c28f6d8b1208",
   "metadata": {},
   "outputs": [],
   "source": []
  },
  {
   "cell_type": "code",
   "execution_count": 65,
   "id": "7c4a96f4-1bda-4bab-8865-cceb8d9c23e9",
   "metadata": {},
   "outputs": [
    {
     "data": {
      "text/plain": [
       "\u001b[1;31mInit signature:\u001b[0m \u001b[0mtqdm\u001b[0m\u001b[1;33m(\u001b[0m\u001b[1;33m*\u001b[0m\u001b[0m_\u001b[0m\u001b[1;33m,\u001b[0m \u001b[1;33m**\u001b[0m\u001b[0m__\u001b[0m\u001b[1;33m)\u001b[0m\u001b[1;33m\u001b[0m\u001b[1;33m\u001b[0m\u001b[0m\n",
       "\u001b[1;31mDocstring:\u001b[0m     \n",
       "Decorate an iterable object, returning an iterator which acts exactly\n",
       "like the original iterable, but prints a dynamically updating\n",
       "progressbar every time a value is requested.\n",
       "\u001b[1;31mInit docstring:\u001b[0m\n",
       "Parameters\n",
       "----------\n",
       "iterable  : iterable, optional\n",
       "    Iterable to decorate with a progressbar.\n",
       "    Leave blank to manually manage the updates.\n",
       "desc  : str, optional\n",
       "    Prefix for the progressbar.\n",
       "total  : int or float, optional\n",
       "    The number of expected iterations. If unspecified,\n",
       "    len(iterable) is used if possible. If float(\"inf\") or as a last\n",
       "    resort, only basic progress statistics are displayed\n",
       "    (no ETA, no progressbar).\n",
       "    If `gui` is True and this parameter needs subsequent updating,\n",
       "    specify an initial arbitrary large positive number,\n",
       "    e.g. 9e9.\n",
       "leave  : bool, optional\n",
       "    If [default: True], keeps all traces of the progressbar\n",
       "    upon termination of iteration.\n",
       "    If `None`, will leave only if `position` is `0`.\n",
       "file  : `io.TextIOWrapper` or `io.StringIO`, optional\n",
       "    Specifies where to output the progress messages\n",
       "    (default: sys.stderr). Uses `file.write(str)` and `file.flush()`\n",
       "    methods.  For encoding, see `write_bytes`.\n",
       "ncols  : int, optional\n",
       "    The width of the entire output message. If specified,\n",
       "    dynamically resizes the progressbar to stay within this bound.\n",
       "    If unspecified, attempts to use environment width. The\n",
       "    fallback is a meter width of 10 and no limit for the counter and\n",
       "    statistics. If 0, will not print any meter (only stats).\n",
       "mininterval  : float, optional\n",
       "    Minimum progress display update interval [default: 0.1] seconds.\n",
       "maxinterval  : float, optional\n",
       "    Maximum progress display update interval [default: 10] seconds.\n",
       "    Automatically adjusts `miniters` to correspond to `mininterval`\n",
       "    after long display update lag. Only works if `dynamic_miniters`\n",
       "    or monitor thread is enabled.\n",
       "miniters  : int or float, optional\n",
       "    Minimum progress display update interval, in iterations.\n",
       "    If 0 and `dynamic_miniters`, will automatically adjust to equal\n",
       "    `mininterval` (more CPU efficient, good for tight loops).\n",
       "    If > 0, will skip display of specified number of iterations.\n",
       "    Tweak this and `mininterval` to get very efficient loops.\n",
       "    If your progress is erratic with both fast and slow iterations\n",
       "    (network, skipping items, etc) you should set miniters=1.\n",
       "ascii  : bool or str, optional\n",
       "    If unspecified or False, use unicode (smooth blocks) to fill\n",
       "    the meter. The fallback is to use ASCII characters \" 123456789#\".\n",
       "disable  : bool, optional\n",
       "    Whether to disable the entire progressbar wrapper\n",
       "    [default: False]. If set to None, disable on non-TTY.\n",
       "unit  : str, optional\n",
       "    String that will be used to define the unit of each iteration\n",
       "    [default: it].\n",
       "unit_scale  : bool or int or float, optional\n",
       "    If 1 or True, the number of iterations will be reduced/scaled\n",
       "    automatically and a metric prefix following the\n",
       "    International System of Units standard will be added\n",
       "    (kilo, mega, etc.) [default: False]. If any other non-zero\n",
       "    number, will scale `total` and `n`.\n",
       "dynamic_ncols  : bool, optional\n",
       "    If set, constantly alters `ncols` and `nrows` to the\n",
       "    environment (allowing for window resizes) [default: False].\n",
       "smoothing  : float, optional\n",
       "    Exponential moving average smoothing factor for speed estimates\n",
       "    (ignored in GUI mode). Ranges from 0 (average speed) to 1\n",
       "    (current/instantaneous speed) [default: 0.3].\n",
       "bar_format  : str, optional\n",
       "    Specify a custom bar string formatting. May impact performance.\n",
       "    [default: '{l_bar}{bar}{r_bar}'], where\n",
       "    l_bar='{desc}: {percentage:3.0f}%|' and\n",
       "    r_bar='| {n_fmt}/{total_fmt} [{elapsed}<{remaining}, '\n",
       "      '{rate_fmt}{postfix}]'\n",
       "    Possible vars: l_bar, bar, r_bar, n, n_fmt, total, total_fmt,\n",
       "      percentage, elapsed, elapsed_s, ncols, nrows, desc, unit,\n",
       "      rate, rate_fmt, rate_noinv, rate_noinv_fmt,\n",
       "      rate_inv, rate_inv_fmt, postfix, unit_divisor,\n",
       "      remaining, remaining_s, eta.\n",
       "    Note that a trailing \": \" is automatically removed after {desc}\n",
       "    if the latter is empty.\n",
       "initial  : int or float, optional\n",
       "    The initial counter value. Useful when restarting a progress\n",
       "    bar [default: 0]. If using float, consider specifying `{n:.3f}`\n",
       "    or similar in `bar_format`, or specifying `unit_scale`.\n",
       "position  : int, optional\n",
       "    Specify the line offset to print this bar (starting from 0)\n",
       "    Automatic if unspecified.\n",
       "    Useful to manage multiple bars at once (eg, from threads).\n",
       "postfix  : dict or *, optional\n",
       "    Specify additional stats to display at the end of the bar.\n",
       "    Calls `set_postfix(**postfix)` if possible (dict).\n",
       "unit_divisor  : float, optional\n",
       "    [default: 1000], ignored unless `unit_scale` is True.\n",
       "write_bytes  : bool, optional\n",
       "    If (default: None) and `file` is unspecified,\n",
       "    bytes will be written in Python 2. If `True` will also write\n",
       "    bytes. In all other cases will default to unicode.\n",
       "lock_args  : tuple, optional\n",
       "    Passed to `refresh` for intermediate output\n",
       "    (initialisation, iterating, and updating).\n",
       "nrows  : int, optional\n",
       "    The screen height. If specified, hides nested bars outside this\n",
       "    bound. If unspecified, attempts to use environment height.\n",
       "    The fallback is 20.\n",
       "colour  : str, optional\n",
       "    Bar colour (e.g. 'green', '#00ff00').\n",
       "delay  : float, optional\n",
       "    Don't display until [default: 0] seconds have elapsed.\n",
       "gui  : bool, optional\n",
       "    WARNING: internal parameter - do not use.\n",
       "    Use tqdm.gui.tqdm(...) instead. If set, will attempt to use\n",
       "    matplotlib animations for a graphical output [default: False].\n",
       "\n",
       "Returns\n",
       "-------\n",
       "out  : decorated iterator.\n",
       "\u001b[1;31mFile:\u001b[0m           d:\\programs\\miniconda3\\envs\\planetary\\lib\\site-packages\\tqdm\\std.py\n",
       "\u001b[1;31mType:\u001b[0m           type\n",
       "\u001b[1;31mSubclasses:\u001b[0m     tqdm_gui\n"
      ]
     },
     "metadata": {},
     "output_type": "display_data"
    }
   ],
   "source": [
    "tqdm?"
   ]
  },
  {
   "cell_type": "code",
   "execution_count": null,
   "id": "77771ab4-8f63-41c5-b60d-8d237d5a9981",
   "metadata": {},
   "outputs": [],
   "source": []
  }
 ],
 "metadata": {
  "kernelspec": {
   "display_name": "Python 3 (ipykernel)",
   "language": "python",
   "name": "python3"
  },
  "language_info": {
   "codemirror_mode": {
    "name": "ipython",
    "version": 3
   },
   "file_extension": ".py",
   "mimetype": "text/x-python",
   "name": "python",
   "nbconvert_exporter": "python",
   "pygments_lexer": "ipython3",
   "version": "3.8.10"
  }
 },
 "nbformat": 4,
 "nbformat_minor": 5
}
